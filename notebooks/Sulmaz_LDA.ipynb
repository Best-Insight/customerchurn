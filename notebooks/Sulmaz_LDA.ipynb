{
 "cells": [
  {
   "cell_type": "code",
   "execution_count": 1,
   "id": "61781468",
   "metadata": {
    "scrolled": true
   },
   "outputs": [],
   "source": [
    "#   >>> import nltk\n",
    "#   >>> nltk.download('omw-1.4')"
   ]
  },
  {
   "cell_type": "code",
   "execution_count": 2,
   "id": "4d2e1a06",
   "metadata": {},
   "outputs": [],
   "source": [
    "from nltk.corpus import stopwords\n",
    "from nltk.tokenize import word_tokenize\n",
    "from nltk.stem import WordNetLemmatizer\n",
    "import string"
   ]
  },
  {
   "cell_type": "code",
   "execution_count": 3,
   "id": "166838a1",
   "metadata": {},
   "outputs": [],
   "source": [
    "import pandas as pd\n",
    "import numpy as np\n",
    "%load_ext autoreload\n",
    "%autoreload 2\n"
   ]
  },
  {
   "cell_type": "code",
   "execution_count": 4,
   "id": "3e19d0d3",
   "metadata": {},
   "outputs": [
    {
     "name": "stderr",
     "output_type": "stream",
     "text": [
      "/tmp/ipykernel_23299/359733226.py:1: DtypeWarning: Columns (1,2) have mixed types. Specify dtype option on import or set low_memory=False.\n",
      "  data = pd.read_csv('../../raw_data/raw_en.csv')\n"
     ]
    }
   ],
   "source": [
    "data = pd.read_csv('../../raw_data/raw_en.csv')"
   ]
  },
  {
   "cell_type": "code",
   "execution_count": 20,
   "id": "1ba14ef1",
   "metadata": {},
   "outputs": [
    {
     "data": {
      "text/html": [
       "<div>\n",
       "<style scoped>\n",
       "    .dataframe tbody tr th:only-of-type {\n",
       "        vertical-align: middle;\n",
       "    }\n",
       "\n",
       "    .dataframe tbody tr th {\n",
       "        vertical-align: top;\n",
       "    }\n",
       "\n",
       "    .dataframe thead th {\n",
       "        text-align: right;\n",
       "    }\n",
       "</style>\n",
       "<table border=\"1\" class=\"dataframe\">\n",
       "  <thead>\n",
       "    <tr style=\"text-align: right;\">\n",
       "      <th></th>\n",
       "      <th>name</th>\n",
       "      <th>date</th>\n",
       "      <th>recommendation</th>\n",
       "      <th>review</th>\n",
       "      <th>playing_hours</th>\n",
       "      <th>source</th>\n",
       "      <th>stars</th>\n",
       "      <th>language</th>\n",
       "    </tr>\n",
       "  </thead>\n",
       "  <tbody>\n",
       "    <tr>\n",
       "      <th>0</th>\n",
       "      <td>Expansion - Hearts of Iron IV: Man the Guns</td>\n",
       "      <td>2019-02-10</td>\n",
       "      <td>Recommended</td>\n",
       "      <td>&amp;gt Played as German Reich&amp;gt Declare war on B...</td>\n",
       "      <td>578.0</td>\n",
       "      <td>steam</td>\n",
       "      <td>NaN</td>\n",
       "      <td>en</td>\n",
       "    </tr>\n",
       "    <tr>\n",
       "      <th>1</th>\n",
       "      <td>Expansion - Hearts of Iron IV: Man the Guns</td>\n",
       "      <td>2019-02-07</td>\n",
       "      <td>Recommended</td>\n",
       "      <td>Very good game although a bit overpriced in my...</td>\n",
       "      <td>892.0</td>\n",
       "      <td>steam</td>\n",
       "      <td>NaN</td>\n",
       "      <td>en</td>\n",
       "    </tr>\n",
       "    <tr>\n",
       "      <th>2</th>\n",
       "      <td>Dead by Daylight</td>\n",
       "      <td>2018-06-14</td>\n",
       "      <td>Recommended</td>\n",
       "      <td>Out of all the reviews I wrote This one is pro...</td>\n",
       "      <td>676.0</td>\n",
       "      <td>steam</td>\n",
       "      <td>NaN</td>\n",
       "      <td>en</td>\n",
       "    </tr>\n",
       "    <tr>\n",
       "      <th>3</th>\n",
       "      <td>Dead by Daylight</td>\n",
       "      <td>2017-06-20</td>\n",
       "      <td>Recommended</td>\n",
       "      <td>Disclaimer I survivor main. I play games for f...</td>\n",
       "      <td>612.0</td>\n",
       "      <td>steam</td>\n",
       "      <td>NaN</td>\n",
       "      <td>en</td>\n",
       "    </tr>\n",
       "    <tr>\n",
       "      <th>4</th>\n",
       "      <td>Dead by Daylight</td>\n",
       "      <td>2016-12-12</td>\n",
       "      <td>Recommended</td>\n",
       "      <td>ENGLISH After playing for more than two years ...</td>\n",
       "      <td>2694.0</td>\n",
       "      <td>steam</td>\n",
       "      <td>NaN</td>\n",
       "      <td>en</td>\n",
       "    </tr>\n",
       "  </tbody>\n",
       "</table>\n",
       "</div>"
      ],
      "text/plain": [
       "                                          name        date recommendation  \\\n",
       "0  Expansion - Hearts of Iron IV: Man the Guns  2019-02-10    Recommended   \n",
       "1  Expansion - Hearts of Iron IV: Man the Guns  2019-02-07    Recommended   \n",
       "2                             Dead by Daylight  2018-06-14    Recommended   \n",
       "3                             Dead by Daylight  2017-06-20    Recommended   \n",
       "4                             Dead by Daylight  2016-12-12    Recommended   \n",
       "\n",
       "                                              review  playing_hours source  \\\n",
       "0  &gt Played as German Reich&gt Declare war on B...          578.0  steam   \n",
       "1  Very good game although a bit overpriced in my...          892.0  steam   \n",
       "2  Out of all the reviews I wrote This one is pro...          676.0  steam   \n",
       "3  Disclaimer I survivor main. I play games for f...          612.0  steam   \n",
       "4  ENGLISH After playing for more than two years ...         2694.0  steam   \n",
       "\n",
       "   stars language  \n",
       "0    NaN       en  \n",
       "1    NaN       en  \n",
       "2    NaN       en  \n",
       "3    NaN       en  \n",
       "4    NaN       en  "
      ]
     },
     "execution_count": 20,
     "metadata": {},
     "output_type": "execute_result"
    }
   ],
   "source": [
    "data.head()"
   ]
  },
  {
   "cell_type": "code",
   "execution_count": 6,
   "id": "be3d65da",
   "metadata": {
    "scrolled": true
   },
   "outputs": [
    {
     "name": "stdout",
     "output_type": "stream",
     "text": [
      "<class 'pandas.core.frame.DataFrame'>\n",
      "RangeIndex: 457074 entries, 0 to 457073\n",
      "Data columns (total 8 columns):\n",
      " #   Column          Non-Null Count   Dtype  \n",
      "---  ------          --------------   -----  \n",
      " 0   name            457074 non-null  object \n",
      " 1   date            351179 non-null  object \n",
      " 2   recommendation  350678 non-null  object \n",
      " 3   review          457074 non-null  object \n",
      " 4   playing_hours   350678 non-null  float64\n",
      " 5   source          457074 non-null  object \n",
      " 6   stars           106396 non-null  float64\n",
      " 7   language        457074 non-null  object \n",
      "dtypes: float64(2), object(6)\n",
      "memory usage: 27.9+ MB\n"
     ]
    }
   ],
   "source": [
    "data.info()"
   ]
  },
  {
   "cell_type": "code",
   "execution_count": 21,
   "id": "2ab316cd",
   "metadata": {},
   "outputs": [
    {
     "data": {
      "text/plain": [
       "Recommended        673\n",
       "Not Recommended    327\n",
       "Name: recommendation, dtype: int64"
      ]
     },
     "execution_count": 21,
     "metadata": {},
     "output_type": "execute_result"
    }
   ],
   "source": [
    "data.recommendation.head(1000).value_counts()"
   ]
  },
  {
   "cell_type": "code",
   "execution_count": 22,
   "id": "fd33079c",
   "metadata": {},
   "outputs": [
    {
     "data": {
      "text/plain": [
       "0"
      ]
     },
     "execution_count": 22,
     "metadata": {},
     "output_type": "execute_result"
    }
   ],
   "source": [
    "data.recommendation.isnull().sum()"
   ]
  },
  {
   "cell_type": "code",
   "execution_count": 9,
   "id": "7c95b8e9",
   "metadata": {},
   "outputs": [
    {
     "data": {
      "text/plain": [
       "350678"
      ]
     },
     "execution_count": 9,
     "metadata": {},
     "output_type": "execute_result"
    }
   ],
   "source": [
    "data.stars.isnull().sum()"
   ]
  },
  {
   "cell_type": "code",
   "execution_count": 9,
   "id": "363ad2ce",
   "metadata": {},
   "outputs": [],
   "source": [
    "#data['recommendation'] = data.apply(lambda x: 'Recommended' if data['stars']>3,columns=['recommendation'])"
   ]
  },
  {
   "cell_type": "code",
   "execution_count": 10,
   "id": "dabb50cf",
   "metadata": {},
   "outputs": [
    {
     "data": {
      "text/plain": [
       "0         True\n",
       "1         True\n",
       "2         True\n",
       "3         True\n",
       "4         True\n",
       "          ... \n",
       "457069    True\n",
       "457070    True\n",
       "457071    True\n",
       "457072    True\n",
       "457073    True\n",
       "Name: stars, Length: 457074, dtype: bool"
      ]
     },
     "execution_count": 10,
     "metadata": {},
     "output_type": "execute_result"
    }
   ],
   "source": [
    "data['stars'] != np.nan "
   ]
  },
  {
   "cell_type": "code",
   "execution_count": 18,
   "id": "482c3faa",
   "metadata": {},
   "outputs": [],
   "source": [
    "def convert_stars(row):\n",
    "    if pd.isna(row['stars']) == False:\n",
    "        if row['stars'] > 3:\n",
    "            return 'Recommended'\n",
    "        return 'Not Recommended'\n",
    "    return row['recommendation']\n"
   ]
  },
  {
   "cell_type": "code",
   "execution_count": 23,
   "id": "5d37d1bf",
   "metadata": {},
   "outputs": [],
   "source": [
    "data['recommendation'] = data.apply(convert_stars, axis = 1)"
   ]
  },
  {
   "cell_type": "code",
   "execution_count": 24,
   "id": "eec9f549",
   "metadata": {},
   "outputs": [
    {
     "data": {
      "text/plain": [
       "0"
      ]
     },
     "execution_count": 24,
     "metadata": {},
     "output_type": "execute_result"
    }
   ],
   "source": [
    "data.recommendation.isnull().sum()"
   ]
  },
  {
   "cell_type": "code",
   "execution_count": 25,
   "id": "59ffcab0",
   "metadata": {},
   "outputs": [],
   "source": [
    "X = data[['review']].copy()\n",
    "y = data['recommendation']"
   ]
  },
  {
   "cell_type": "code",
   "execution_count": 26,
   "id": "ee1f9e21",
   "metadata": {},
   "outputs": [],
   "source": [
    "def remove_punctuations(text):\n",
    "    punctuations = string.punctuation\n",
    "    for punctuation in punctuations:\n",
    "        text = text.replace(punctuation, '')\n",
    "    return text\n",
    "\n",
    "def lowercase(text): \n",
    "    text = text.lower() #str was removed\n",
    "    return text\n",
    "\n",
    "def remove_num(text):\n",
    "    text = ''.join(word for word in text if not word.isdigit())\n",
    "    return text\n",
    "\n",
    "# def lemmatize(text):\n",
    "#     nlp = spacy.load(\"en_core_web_sm\")\n",
    "#     text = ' '.join(token.lemma_ for token in nlp(text))\n",
    "#     return text\n",
    "\n",
    "def lemmatize(text):\n",
    "    lemmatizer = WordNetLemmatizer()\n",
    "    word_tokens = word_tokenize(text)\n",
    "    lemmatized = [lemmatizer.lemmatize(word) for word in word_tokens]\n",
    "    return ' '.join(lemmatized)\n",
    "\n",
    "def remove_stopwords(text):\n",
    "    stop_words = set(stopwords.words('english'))\n",
    "    word_tokens = word_tokenize(text)\n",
    "    word_tokens = [word for word in word_tokens if not word in stop_words]\n",
    "    return ' '.join(word_tokens)\n",
    "\n",
    "def text_prepro(text): # this does the whole job. \n",
    "    text = lowercase(text)\n",
    "    text = remove_punctuations(text)\n",
    "    text = remove_num(text)\n",
    "    text = lemmatize(text)\n",
    "    text = remove_stopwords(text)\n",
    "    return text\n",
    "\n",
    "def series_prepro(series): # this function does not work, what is the objective of it?\n",
    "    return pd.DataFrame(series.apply(text_prepro))\n"
   ]
  },
  {
   "cell_type": "code",
   "execution_count": 27,
   "id": "a4a953c9",
   "metadata": {},
   "outputs": [
    {
     "data": {
      "text/plain": [
       "\"Disclaimer I survivor main. I play games for fun not for competition so the DBD community doesn't really get to me. If I get a bad killer that face camps oh well. I die and move on to the next game. If I get a good killer who finds me immediately hooks me (bc I can't juke whoops) and then patrol camps (which I'm 100% OK with) then no biggie. Next game please I think a lot of the community salt from killers comes from dealing with rank one survivors that don't actually play the game properly and just run around and flash the killer in the face. And while that is a legitimate strategy it takes away from the fun of the game in my opinion.As a killer (a horrible one) I've also been called names by survivors who tell me to 'get gud.' Older players ruin it for newer players or players who don't put in 1000s of hours. Just relax and have fun with the game! So what if you don't pip up there is always the next game )That being said this game is crazy fun. Don't let the saltiness of the community keep you from buying the game. Grab it have fun with it and ignore anyone who might give you a hard time ) And don't fixate too much on the ranking process unless you're absurdly highly competitive for some reason (also fine just try not to let it push you into spouts of anger!) and even then recognize that there are jerks who play this game like any other game and have fun while you compete!\""
      ]
     },
     "execution_count": 27,
     "metadata": {},
     "output_type": "execute_result"
    }
   ],
   "source": [
    "X.review[3]"
   ]
  },
  {
   "cell_type": "code",
   "execution_count": 35,
   "id": "c1f684a2",
   "metadata": {
    "scrolled": false
   },
   "outputs": [],
   "source": [
    "X['review_clean'] = X['review'].apply(text_prepro)"
   ]
  },
  {
   "cell_type": "code",
   "execution_count": 36,
   "id": "7629b43a",
   "metadata": {},
   "outputs": [
    {
     "data": {
      "text/plain": [
       "'disclaimer survivor main play game fun competition dbd community doesnt really get get bad killer face camp oh well die move next game get good killer find immediately hook bc cant juke whoop patrol camp im ok biggie next game please think lot community salt killer come dealing rank one survivor dont actually play game properly run around flash killer face legitimate strategy take away fun game opinionas killer horrible one ive also called name survivor tell get gud older player ruin newer player player dont put hour relax fun game dont pip always next game said game crazy fun dont let saltiness community keep buying game grab fun ignore anyone might give hard time dont fixate much ranking process unless youre absurdly highly competitive reason also fine try let push spout anger even recognize jerk play game like game fun compete'"
      ]
     },
     "execution_count": 36,
     "metadata": {},
     "output_type": "execute_result"
    }
   ],
   "source": [
    "X['review_clean'][3]"
   ]
  },
  {
   "cell_type": "code",
   "execution_count": 30,
   "id": "62017c95",
   "metadata": {
    "scrolled": true
   },
   "outputs": [
    {
     "data": {
      "text/plain": [
       "0    gt played german reichgt declare war belgiumgt...\n",
       "1    good game although bit overpriced opinion id p...\n",
       "2    review wrote one probably serious one wrote st...\n",
       "3    disclaimer survivor main play game fun competi...\n",
       "4    english playing two year given task reviewing ...\n",
       "Name: review_clean, dtype: object"
      ]
     },
     "execution_count": 30,
     "metadata": {},
     "output_type": "execute_result"
    }
   ],
   "source": [
    "X['review_clean'].head()"
   ]
  },
  {
   "cell_type": "markdown",
   "id": "ec886cf4",
   "metadata": {},
   "source": [
    "## Latent Dirichlet Allocation model"
   ]
  },
  {
   "cell_type": "code",
   "execution_count": 57,
   "id": "b2d5ff81",
   "metadata": {},
   "outputs": [],
   "source": [
    "from sklearn.decomposition import LatentDirichletAllocation\n",
    "from sklearn.feature_extraction.text import CountVectorizer, TfidfVectorizer\n",
    "\n",
    "def comp_iter(n):\n",
    " \n",
    "    vectorizer = TfidfVectorizer().fit(X['review_clean'].head(100000))\n",
    "\n",
    "    data_vectorized = vectorizer.transform(X['review_clean'].head(100000))\n",
    "\n",
    "    lda_model = LatentDirichletAllocation(n_components=n).fit(data_vectorized)\n",
    "    \n",
    "    return lda_model"
   ]
  },
  {
   "cell_type": "code",
   "execution_count": 61,
   "id": "e6290ddc",
   "metadata": {},
   "outputs": [
    {
     "name": "stdout",
     "output_type": "stream",
     "text": [
      "Topic 0:\n",
      "[('game', 19.323242751676784), ('fun', 15.052526717936516), ('good', 14.376000491196406), ('great', 12.7236597382293), ('friend', 12.385800351314412), ('pretty', 11.722256767252109), ('job', 9.18633729529896), ('play', 9.106062289077363), ('far', 6.699383740707762), ('really', 6.034004771868148)]\n",
      "Topic 1:\n",
      "[('addicted', 1.6599403851480143), ('meme', 1.0457214262902121), ('badge', 0.9539582874064797), ('billy', 0.9379316991983984), ('atmospheric', 0.9213042016390174), ('alright', 0.9095288834922292), ('best', 0.8039942483358649), ('rip', 0.7901702553050035), ('beast', 0.7588784018477108), ('wwwredditcomrdeadbydaylightcommentsnqpodiscordserverfordbdtalking', 0.7093230413573398)]\n",
      "Topic 2:\n",
      "[('addictive', 2.1532162857437265), ('terrifying', 2.131637652857732), ('join', 2.126681814720185), ('button', 1.385623432373373), ('crash', 1.2917264673647144), ('level', 1.276656065327776), ('win', 1.237659678294244), ('hatch', 1.2094509876098294), ('havent', 1.0890916952099623), ('couldnt', 1.0465701884215781)]\n",
      "Topic 3:\n",
      "[('lol', 1.7284485113677601), ('slasher', 1.346451876832015), ('perfect', 1.1866068410402748), ('relax', 0.879214816024183), ('friendsedit', 0.8339829628674461), ('slaughter', 0.8132755817047805), ('sastisfying', 0.806360705412007), ('approve', 0.8018650434515555), ('dimeraraven', 0.8018650434515555), ('funplay', 0.7999854887737802)]\n",
      "Topic 4:\n",
      "[('cool', 3.3235741448612175), ('ready', 1.6284800234198784), ('scary', 1.5972048576296896), ('developer', 1.1293800105931844), ('press', 1.0823776081826157), ('decent', 0.9691735734840127), ('firday', 0.8793836939158245), ('af', 0.869944713294084), ('exciting', 0.8639944482437806), ('fair', 0.8484189229371333)]\n",
      "Topic 5:\n",
      "[('received', 7.042026612035905), ('product', 7.015220928727725), ('free', 5.991217009641708), ('best', 3.2787375780072696), ('nice', 3.1237665838372317), ('one', 2.632745521417543), ('game', 2.0987819733751234), ('chinese', 1.5013609552565448), ('scary', 1.4409045099898123), ('ton', 1.195364288718185)]\n",
      "Topic 6:\n",
      "[('game', 73.01615464276058), ('killer', 39.83954288699073), ('survivor', 27.428707358620137), ('fun', 26.950499531081807), ('play', 26.712855301856365), ('get', 24.203436121089354), ('like', 20.617486606800913), ('time', 18.7587411734891), ('friend', 18.602726065709174), ('really', 18.584431945110936)]\n",
      "Topic 7:\n",
      "[('nice', 7.807440568911935), ('game', 2.356619021658993), ('developer', 1.4480800784927337), ('room', 1.3700145723683772), ('crash', 1.3361196853828299), ('thanks', 1.3158118567154757), ('banned', 1.2715939974284554), ('addicting', 1.1076138859614906), ('opposite', 1.0593791688422218), ('great', 1.0010203914359315)]\n",
      "Topic 8:\n",
      "[('disconnect', 2.2425620473998307), ('level', 1.5727954209925563), ('pc', 1.448948720771304), ('gud', 1.3771235745684576), ('piss', 1.248533746545836), ('lost', 1.1579033033304127), ('everything', 1.102736275774743), ('amezing', 1.0853365896320502), ('average', 1.0844362976112965), ('price', 1.0200715861842873)]\n",
      "Topic 9:\n",
      "[('seek', 2.7157144786917007), ('repetitive', 2.6584741378450305), ('hide', 2.3647822694680682), ('play', 1.6751680935042086), ('nice', 1.509654370020695), ('game', 1.427563050541225), ('absolutely', 1.1783261891106867), ('loving', 1.1280977456054124), ('worked', 1.121637557289325), ('developer', 1.1102970678989494)]\n"
     ]
    }
   ],
   "source": [
    "vectorizer = TfidfVectorizer().fit(X['review_clean'].head(1000))\n",
    "\n",
    "data_vectorized = vectorizer.transform(X['review_clean'].head(1000))\n",
    "\n",
    "lda_model = LatentDirichletAllocation(n_components=n).fit(data_vectorized)\n",
    "\n",
    "def print_topics(model, vectorizer):\n",
    "    for idx, topic in enumerate(model.components_):\n",
    "        print(\"Topic %d:\" % (idx))\n",
    "        print([(vectorizer.get_feature_names()[i], topic[i])\n",
    "                        for i in topic.argsort()[:-10 - 1:-1]])\n",
    "\n",
    "print_topics(lda_model, vectorizer)"
   ]
  },
  {
   "cell_type": "code",
   "execution_count": 68,
   "id": "2d403674",
   "metadata": {},
   "outputs": [
    {
     "name": "stdout",
     "output_type": "stream",
     "text": [
      "Topic 0:\n",
      "[('great', 1662.194064927577), ('game', 904.173153844072), ('suck', 240.58139840312472), ('friend', 228.39307640433978), ('play', 226.32116198460483), ('fun', 220.69455026749935), ('wow', 107.90980472157516), ('fantastic', 100.37451670323748), ('controller', 88.51981515364567), ('good', 84.005933013724)]\n",
      "Topic 1:\n",
      "[('perfect', 121.58283466475079), ('goal', 64.45589809587143), ('score', 57.78307080368131), ('aight', 54.611480935035424), ('fly', 53.419653238885424), ('exciting', 51.046984477779105), ('would', 29.99043807112224), ('meme', 28.7348048167768), ('game', 24.40490452576007), ('scored', 22.741964136125095)]\n",
      "Topic 2:\n",
      "[('easy', 357.16617569847665), ('hard', 345.99725438967334), ('master', 338.2380906560277), ('learn', 228.18896619583393), ('fun', 166.40212709851863), ('game', 149.6172894296822), ('simple', 129.89416325414965), ('play', 117.39888781682214), ('pick', 108.16621083755568), ('difficult', 90.07086881105708)]\n",
      "Topic 3:\n",
      "[('life', 41.761235348837566), ('game', 32.17959756123735), ('fine', 26.126565008524995), ('fav', 26.00690931291121), ('dog', 25.40155067367108), ('ruin', 23.672502892192224), ('friendship', 22.868880150354773), ('awesomeness', 17.378890813375033), ('thrilling', 15.207872668922692), ('trial', 13.433494713129665)]\n",
      "Topic 4:\n",
      "[('server', 275.3948513717003), ('fix', 214.537925822149), ('game', 146.7053014775706), ('please', 134.54939247907322), ('connection', 124.25598611377866), ('fixed', 118.33684223283025), ('issue', 105.77929148618465), ('problem', 81.43132291562264), ('ing', 80.76037235670657), ('lag', 76.8495626144619)]\n",
      "Topic 5:\n",
      "[('awesome', 579.283109995107), ('game', 171.90475485313937), ('addicted', 127.97010629215757), ('sick', 95.68740229660612), ('fun', 52.12660100070521), ('play', 43.38369530450368), ('value', 36.06003321366868), ('dank', 35.28903092580742), ('friend', 34.42721324044022), ('totally', 33.099514423295446)]\n",
      "Topic 6:\n",
      "[('best', 218.85397292387017), ('game', 81.09975007192952), ('steam', 72.71576921686867), ('world', 63.28345726323469), ('rip', 59.641109384127006), ('hand', 34.485875511629125), ('market', 30.830457401251252), ('forever', 22.578507428057513), ('open', 18.77395770852255), ('one', 18.6163655264394)]\n",
      "Topic 7:\n",
      "[('mw', 42.11380435832376), ('error', 36.553593912674174), ('code', 22.5949693806257), ('iv', 14.757039569664439), ('communication', 14.348003357374557), ('send', 11.844727183512967), ('flawless', 11.204111443146882), ('videogame', 9.908024335093337), ('sticker', 9.702616183503219), ('help', 9.40013881697733)]\n",
      "Topic 8:\n",
      "[('love', 786.8248019411882), ('game', 227.68399000685216), ('absolutely', 64.83464989506093), ('much', 56.66007550721756), ('soo', 38.439874419244546), ('ur', 37.239171572138524), ('amazing', 30.182006779504714), ('ta', 28.837200321277397), ('fun', 23.929777380994828), ('got', 20.359021962404448)]\n",
      "Topic 9:\n",
      "[('ball', 390.15399702185107), ('car', 153.72699153090088), ('hit', 136.35629840018206), ('goal', 62.564561702970025), ('drive', 55.61185265649105), ('wheel', 50.817383416633895), ('hitting', 50.39762295219718), ('game', 44.145070988106404), ('hot', 42.60278197847539), ('miss', 40.70200002149016)]\n",
      "Topic 10:\n",
      "[('mod', 248.02650347257344), ('take', 215.6277530791334), ('two', 181.6395628710795), ('modding', 165.3348134755589), ('game', 124.38558975606762), ('favorite', 101.32428926857648), ('rockstar', 93.29167371454264), ('fast', 79.20863724059829), ('support', 74.4326416774843), ('openiv', 74.1013890716096)]\n",
      "Topic 11:\n",
      "[('dead', 62.69154773801169), ('game', 50.97316219709069), ('daylight', 41.97588072481641), ('party', 33.026859068830724), ('dis', 29.840028382229743), ('brgt', 22.12190582763421), ('aid', 20.748047145971977), ('good', 20.251515429812716), ('fun', 18.901604845983048), ('executed', 18.135262453810476)]\n",
      "Topic 12:\n",
      "[('word', 67.58601597800005), ('reading', 32.13690146109764), ('neat', 30.733559672889626), ('shotnice', 26.99703932818747), ('damn', 24.876936448912023), ('describe', 24.163293610272135), ('ya', 19.780613789742798), ('sexy', 18.092200123119785), ('game', 15.79074734334106), ('entertainment', 14.874283700241092)]\n",
      "Topic 13:\n",
      "[('tbh', 37.37733647866272), ('thank', 25.651539791277763), ('dude', 19.506088359210516), ('sorry', 16.929297527214732), ('peasant', 16.353907166200962), ('enjoying', 12.377566976902667), ('euro', 11.984444885151321), ('rule', 11.898441619936245), ('definition', 9.029472936022087), ('game', 8.815032742085705)]\n",
      "Topic 14:\n",
      "[('simply', 55.87461445765603), ('platform', 39.87536217986607), ('cross', 39.21571377914325), ('pant', 27.586548296912337), ('liked', 24.05557966789427), ('game', 19.828175649798254), ('beast', 17.663233688655442), ('legend', 15.563610726114787), ('heart', 14.743295921141357), ('camp', 14.186259003425658)]\n",
      "Topic 15:\n",
      "[('fun', 992.2141221776739), ('friend', 468.4313975633197), ('game', 420.80037290222225), ('play', 383.5963793757456), ('really', 309.66750300130536), ('lot', 227.9285671171363), ('good', 190.87706558944114), ('funny', 182.54056517279085), ('toxic', 175.15530120083042), ('community', 134.33625433727582)]\n",
      "Topic 16:\n",
      "[('worth', 175.66277554953592), ('penny', 49.608376456503485), ('loving', 42.98273375831371), ('money', 38.140048473878885), ('every', 37.14292948962918), ('game', 30.86035796599532), ('aerial', 30.849756214311245), ('gay', 30.038264430145926), ('mad', 26.350727235204094), ('wallpaper', 23.47786271708106)]\n",
      "Topic 17:\n",
      "[('gr', 46.59447793079219), ('incredible', 37.947288967408184), ('meh', 34.019485057062575), ('everyday', 33.921636630482155), ('wonderful', 29.138424948162946), ('rate', 23.646886334231933), ('bloody', 23.10301263318115), ('game', 22.31184525379171), ('cocaine', 17.85316837193142), ('fire', 10.72813800467004)]\n",
      "Topic 18:\n",
      "[('car', 475.16596266652107), ('football', 396.3853236819124), ('soccer', 234.88981343468188), ('like', 167.0887694379411), ('rocket', 135.8980541048079), ('game', 102.10288865852746), ('savewhat', 80.45511244894249), ('flying', 65.08407282451843), ('man', 56.96539779835691), ('powered', 54.44287931200636)]\n",
      "Topic 19:\n",
      "[('good', 736.6484528189343), ('game', 209.98604357016256), ('really', 64.52296503721378), ('fun', 43.88398707473132), ('buy', 32.75504889553463), ('grinding', 23.750441168646894), ('play', 22.39443907707746), ('like', 19.50983795744359), ('jk', 15.903209249327338), ('time', 14.93432334407809)]\n",
      "Topic 20:\n",
      "[('game', 1269.0876774479198), ('monster', 917.0698203754828), ('hunter', 535.3774490244774), ('pc', 471.40454685582665), ('issue', 452.55533834244176), ('fun', 451.31940176508925), ('great', 439.335392563436), ('play', 420.5308076738815), ('like', 370.57474893159554), ('get', 358.1089716975196)]\n",
      "Topic 21:\n",
      "[('hate', 152.22519746508226), ('game', 29.10565382682723), ('bang', 24.799521765179843), ('soccerfootball', 18.322655470217967), ('son', 17.845866048311848), ('everybody', 17.463380738408677), ('soccer', 14.656241688890477), ('genius', 14.642078701415516), ('boom', 14.54266677525827), ('love', 12.966730407512884)]\n",
      "Topic 22:\n",
      "[('ok', 277.47915113669177), ('boring', 160.69275320315722), ('guess', 84.51263649888057), ('bug', 43.37478631567128), ('game', 38.764886867026135), ('hour', 32.79101180381559), ('good', 31.354046305809554), ('masterpiece', 28.68529848656232), ('calculated', 27.793711943847125), ('get', 27.364593064827528)]\n",
      "Topic 23:\n",
      "[('fifa', 194.79866930694337), ('trash', 125.17418320198605), ('xd', 88.04470415348479), ('better', 54.34568005393545), ('gg', 43.71466795852606), ('game', 39.25317404139074), ('repetitive', 29.421941590710798), ('realistic', 25.4709688775468), ('pe', 24.456843231337068), ('hella', 21.53027329014179)]\n",
      "Topic 24:\n",
      "[('pretty', 366.8834341162708), ('good', 217.51221623088128), ('epic', 78.95280955818941), ('game', 75.4859556629497), ('realy', 70.90412476649097), ('said', 52.46321205473985), ('decent', 52.259962046908626), ('fun', 49.591403031406365), ('thats', 48.33138645909801), ('hey', 47.08554837141885)]\n",
      "Topic 25:\n",
      "[('alright', 190.67939747557338), ('entertaining', 77.55763296503812), ('guess', 31.46023739356371), ('twice', 19.816688714189514), ('game', 19.530258412064864), ('creepy', 17.65298772203292), ('original', 16.111592805994), ('myers', 16.045791267854426), ('michael', 14.984092363300682), ('rumble', 13.736769138748645)]\n",
      "Topic 26:\n"
     ]
    },
    {
     "name": "stdout",
     "output_type": "stream",
     "text": [
      "[('lt', 246.10657161488842), ('pure', 35.71479172432259), ('crash', 34.10797170272568), ('rock', 27.773129731004264), ('game', 22.524204626459873), ('crashing', 20.191003023376872), ('mm', 15.006457540493226), ('love', 12.158560507467158), ('approved', 10.228440493542378), ('badass', 8.369757807299582)]\n",
      "Topic 27:\n",
      "[('awsome', 179.0217180269995), ('plz', 39.06509812475691), ('addiction', 34.20580408622534), ('game', 20.086266279142414), ('optimization', 15.783858550667501), ('furious', 8.373589024541907), ('carswhat', 7.394875254318331), ('steroid', 7.359956972689051), ('lie', 6.927448548255711), ('friendsbut', 6.731709270974)]\n",
      "Topic 28:\n",
      "[('game', 922.6592224912971), ('best', 917.4737966912139), ('ever', 815.9002543943084), ('played', 609.1640418875453), ('one', 482.58191874770586), ('soccer', 438.1549735364326), ('ive', 435.49408381788254), ('car', 361.6957595268608), ('rocket', 359.978692859243), ('fun', 333.4408842599585)]\n",
      "Topic 29:\n",
      "[('year', 82.61651733508108), ('favourite', 71.0164781442662), ('game', 46.92554859212573), ('spooky', 30.024994774710983), ('competetive', 22.85505361804117), ('extremly', 14.111908471319072), ('one', 14.017409541749206), ('recommed', 13.366609329968236), ('fun', 12.971166869348846), ('perfection', 12.427541805862322)]\n",
      "Topic 30:\n",
      "[('addicting', 330.9514913234668), ('must', 184.57975208635642), ('gud', 125.07453386048562), ('buy', 113.90327035055387), ('game', 85.73052726234826), ('fun', 65.13831520644902), ('play', 28.418049846674432), ('definetly', 27.953693590200643), ('incredibly', 21.2515312396194), ('amazing', 18.484188475489994)]\n",
      "Topic 31:\n",
      "[('nice', 951.9083492234892), ('game', 227.40999055206547), ('shot', 54.98921606482104), ('play', 40.764552211503364), ('crack', 40.03448647401144), ('friend', 35.769229064074075), ('fun', 33.32771054616049), ('family', 31.815100801851877), ('really', 26.83901835628418), ('minecraft', 18.28428930675357)]\n",
      "Topic 32:\n",
      "[('cool', 546.8610673074172), ('scary', 104.10212706718947), ('badge', 82.18404504541361), ('game', 70.5722743143337), ('adictive', 27.074185890683186), ('pretty', 25.323309638540085), ('fun', 21.10962759732427), ('good', 18.35601221621627), ('really', 15.950555510497004), ('btw', 15.169790296090785)]\n",
      "Topic 33:\n",
      "[('addictive', 362.0469723994269), ('save', 140.48872224726045), ('fun', 52.819892795893416), ('af', 45.54332230254831), ('game', 43.46940044917257), ('freinds', 33.99622298542396), ('lmao', 30.49905811657366), ('extremely', 28.900899731486167), ('wwwchangeorgprockstar', 14.27508660883242), ('highly', 13.418903999813686)]\n",
      "Topic 34:\n",
      "[('cancer', 85.58495394085894), ('game', 32.23601865400869), ('ez', 23.414002998840566), ('amazingly', 22.87779529869118), ('horrible', 22.039222567992265), ('fun', 17.54646648592951), ('age', 17.465385404898296), ('sooooo', 16.689634516533282), ('refund', 16.383694162792974), ('ppl', 15.992664218409276)]\n",
      "Topic 35:\n",
      "[('th', 46.485967198688066), ('friday', 38.31443120966707), ('endless', 32.528406808007915), ('vroom', 28.81596782697611), ('thx', 19.548233503386324), ('bro', 15.616880245709348), ('sooo', 12.239495176806434), ('credit', 9.792609107385863), ('underrated', 9.350224992028988), ('skip', 9.257291866244376)]\n",
      "Topic 36:\n",
      "[('rage', 30.97476366904449), ('scare', 22.61589128889756), ('game', 22.216534074341922), ('ight', 18.56280852934196), ('uninstalled', 14.432402774266373), ('ty', 13.923315079067063), ('reccomended', 13.622869557588883), ('glitch', 12.612013566077401), ('insurgency', 11.499909302411762), ('definetely', 9.554067617243549)]\n",
      "Topic 37:\n",
      "[('recommended', 131.32256058644865), ('okay', 73.84916613164226), ('highly', 32.63601463934853), ('guess', 26.45348888737766), ('inducing', 19.79845946467231), ('wwwyoutubecomwatchv', 19.56559526727475), ('http', 17.716679407441823), ('surprisingly', 16.274592895544888), ('game', 14.59032537797986), ('hi', 12.732303217085486)]\n",
      "Topic 38:\n",
      "[('award', 71.32795192041603), ('recomended', 36.15045762911169), ('wan', 31.549933019629304), ('na', 31.238457016129402), ('verry', 31.046236347879947), ('minute', 26.05078446454649), ('cat', 25.652016184065715), ('period', 25.51590772596138), ('nominated', 24.496570987160084), ('game', 23.974058253242568)]\n",
      "Topic 39:\n",
      "[('game', 1778.5459314300524), ('killer', 965.1519276080156), ('play', 813.9201074061457), ('get', 759.4775470536432), ('fun', 738.8782232271212), ('survivor', 628.1971160226516), ('like', 543.8917570571593), ('time', 541.9822798595297), ('friend', 498.5849807655853), ('playing', 457.78760866204846)]\n",
      "Topic 40:\n",
      "[('challenging', 36.64844028236791), ('yo', 33.63674280471895), ('relax', 33.001981180777406), ('coop', 25.078392515339825), ('game', 18.020351636846815), ('dx', 14.860669276513738), ('fun', 13.454662693855955), ('class', 11.257533303918947), ('hello', 10.38306508118078), ('gamevery', 10.22418663194426)]\n",
      "Topic 41:\n",
      "[('job', 205.2881054691163), ('far', 195.0636396617178), ('pretty', 142.39908478638677), ('good', 117.81254620888144), ('think', 85.94176747025945), ('interesting', 49.378530783713494), ('game', 30.747408831859964), ('baby', 21.904424581578578), ('goood', 19.146700226682118), ('lovely', 15.859694115501203)]\n",
      "Topic 42:\n",
      "[('lol', 83.01946112462636), ('bad', 56.55993814818647), ('brilliant', 43.81424498459718), ('mate', 42.25802631877323), ('acrobatic', 34.57768594538816), ('battle', 31.57645909022869), ('supersonic', 31.317132087758345), ('game', 27.795634098216635), ('powered', 25.017066708586018), ('quality', 22.870549542110368)]\n",
      "Topic 43:\n",
      "[('game', 554.3509864738602), ('online', 334.8816533447251), ('money', 306.8483911644234), ('gta', 260.4296591547743), ('wa', 224.19369800785006), ('rockstar', 216.89513719611568), ('dont', 209.6437663716792), ('play', 202.94752939789615), ('get', 197.74349065530737), ('cant', 196.35212947827966)]\n",
      "Topic 44:\n",
      "[('loved', 39.4730799228138), ('pickup', 15.55183461709533), ('gam', 15.455890329133865), ('couch', 14.942485864050328), ('comunity', 14.815710491988957), ('ffs', 14.044994000070808), ('gamejust', 12.825186609726096), ('batmobile', 12.604372947163432), ('ridiculously', 11.868585555013102), ('indie', 11.709125990005818)]\n",
      "Topic 45:\n",
      "[('amazing', 150.82268706358767), ('game', 93.43932923199901), ('horror', 75.79808777270428), ('regret', 57.93735983861154), ('loading', 57.37834119408765), ('wont', 49.262494969432225), ('waiting', 37.78367471940933), ('survival', 34.39144840501937), ('simulator', 31.510908599759674), ('screen', 31.36416416109653)]\n",
      "Topic 46:\n",
      "[('received', 1306.888351629174), ('product', 1296.4927735611122), ('free', 1276.0525369619036), ('game', 299.3808680611568), ('good', 192.64592923439798), ('fun', 162.84407650076747), ('friend', 153.09157798965052), ('nice', 133.12896470058124), ('play', 127.12171880800008), ('best', 83.87444913522495)]\n",
      "Topic 47:\n",
      "[('recommend', 249.90734918742626), ('would', 212.73891843042514), ('game', 105.80192176538912), ('highly', 96.27821208513464), ('top', 77.85528227917213), ('reccomend', 74.80828512916626), ('play', 62.94703440638703), ('fun', 58.51714830044196), ('laggy', 57.07081916722961), ('anyone', 51.74892638821879)]\n",
      "Topic 48:\n",
      "[('soul', 26.603237676491954), ('idk', 26.07744157811083), ('dark', 20.84553813423671), ('chinese', 19.8391450432251), ('dota', 15.657897633157914), ('fcking', 10.363615097420734), ('arcade', 10.340383035614673), ('gut', 9.706799887885895), ('atm', 9.437458262538307), ('russian', 9.270055444143303)]\n",
      "Topic 49:\n",
      "[('banned', 50.39647990237984), ('reason', 36.17932446721037), ('already', 35.405508390683075), ('controler', 22.1828022879058), ('buy', 17.035339981860346), ('gamebut', 16.567558694716457), ('got', 16.412699140300244), ('fk', 16.233748629934702), ('game', 12.907574966442512), ('reset', 12.142297635575753)]\n"
     ]
    }
   ],
   "source": [
    "vectorizer = TfidfVectorizer().fit(X['review_clean'].head(100000))\n",
    "\n",
    "data_vectorized = vectorizer.transform(X['review_clean'].head(100000))\n",
    "\n",
    "lda_model = LatentDirichletAllocation(n_components=50).fit(data_vectorized)\n",
    "\n",
    "def print_topics(model, vectorizer):\n",
    "    for idx, topic in enumerate(model.components_):\n",
    "        print(\"Topic %d:\" % (idx))\n",
    "        print([(vectorizer.get_feature_names()[i], topic[i])\n",
    "                        for i in topic.argsort()[:-10 - 1:-1]])\n",
    "\n",
    "print_topics(lda_model, vectorizer)"
   ]
  },
  {
   "cell_type": "code",
   "execution_count": 65,
   "id": "e8e2ab7f",
   "metadata": {},
   "outputs": [
    {
     "name": "stdout",
     "output_type": "stream",
     "text": [
      "\n",
      "\n",
      " number of components = 10\n",
      "Topic 0:\n",
      "[('game', 3818.833736781737), ('fun', 2827.2260245145317), ('great', 2245.67426902934), ('play', 1822.1556218307483), ('friend', 1524.6043424801433), ('car', 1333.6088210706162), ('good', 1128.4652342053946), ('really', 988.0894642756656), ('rocket', 885.9750246942864), ('soccer', 832.0500515602126)]\n",
      "Topic 1:\n",
      "[('game', 3038.2930008665166), ('get', 1070.6023800301978), ('play', 1040.1003402170224), ('killer', 975.9620098053634), ('like', 958.7193973466027), ('fun', 950.2609270158692), ('time', 889.6213630531372), ('wa', 819.101806576157), ('monster', 805.2987108818216), ('good', 792.2826992743089)]\n",
      "Topic 2:\n",
      "[('trash', 78.09998989908607), ('sick', 74.78261157577005), ('aight', 55.29650449965983), ('gr', 46.90410741668199), ('neat', 21.72913906161052), ('game', 20.655442837017553), ('meme', 16.35223835278759), ('gamewhat', 14.48144438348789), ('boi', 13.684093741326821), ('bruh', 13.478320534688596)]\n",
      "Topic 3:\n",
      "[('best', 928.5343261576692), ('game', 592.5257607979299), ('ever', 590.5241879777219), ('good', 539.1290623204765), ('played', 337.81390076188507), ('one', 324.760287625533), ('ive', 209.45496438632836), ('addictive', 165.4000753112057), ('year', 116.96871506753415), ('favorite', 97.21284604249183)]\n",
      "Topic 4:\n",
      "[('received', 1306.5643925420868), ('product', 1296.4217499157774), ('free', 1233.4850310607603), ('nice', 882.5187879555031), ('game', 415.9633110062787), ('good', 180.76713232248727), ('guess', 150.1508130747718), ('suck', 122.895339476249), ('funny', 81.24472768423286), ('savewhat', 80.53509899206068)]\n",
      "Topic 5:\n",
      "[('cool', 405.77631363942726), ('save', 110.26478259665531), ('top', 64.51298192209138), ('game', 49.72498014968993), ('scary', 26.79089548671377), ('yes', 18.9458133726538), ('rock', 17.388537402809146), ('bloody', 16.62983773961936), ('brilliant', 15.495363833147824), ('bois', 15.281430428488182)]\n",
      "Topic 6:\n",
      "[('alright', 183.5968441520122), ('gud', 129.4081110257718), ('fifa', 86.59711072534469), ('badge', 80.74514224244034), ('yeah', 38.81348998368249), ('dead', 35.78509168833169), ('ign', 33.15977106615707), ('nuff', 31.33101174957363), ('spooky', 29.337370865002768), ('better', 28.949861628817594)]\n",
      "Topic 7:\n",
      "[('love', 631.966996668171), ('game', 622.6784616304238), ('server', 360.0410306391502), ('fix', 254.6232516967157), ('good', 207.4611809090156), ('issue', 183.31588176976237), ('bad', 172.13947239043102), ('lt', 169.11266213457452), ('connection', 167.47104708497972), ('ing', 165.31800165054136)]\n",
      "Topic 8:\n",
      "[('mod', 303.67033512065524), ('modding', 227.29688221152125), ('take', 221.83398780292853), ('ok', 216.42556284986972), ('two', 201.66682005406452), ('openiv', 133.85961742023528), ('rockstar', 131.5601291609798), ('gta', 126.79359839353826), ('game', 99.35232915360615), ('money', 98.72937843976744)]\n",
      "Topic 9:\n",
      "[('pretty', 464.55512473353485), ('good', 271.99014170836233), ('job', 191.46553322986057), ('awsome', 175.48634110288896), ('far', 142.32443527460052), ('lit', 76.18228294567992), ('think', 75.27424313044638), ('game', 59.878191677659395), ('hey', 34.379683931008906), ('wow', 31.231167132719484)]\n",
      "\n",
      "\n",
      " number of components = 20\n",
      "Topic 0:\n",
      "[('nice', 890.572122687022), ('game', 230.33262902912625), ('sick', 84.38423160252574), ('ign', 65.98894984254356), ('shot', 53.79851516147387), ('gg', 36.08770460975952), ('rly', 34.78865737389053), ('whit', 24.99457250726715), ('gay', 23.832100247595537), ('good', 21.25052692851285)]\n",
      "Topic 1:\n",
      "[('must', 65.42106202680675), ('recommended', 56.935180089503525), ('favourite', 46.31649980527227), ('market', 20.085131460975138), ('game', 18.144455920362198), ('luv', 18.10520734622038), ('buy', 17.809964920199658), ('insanely', 11.595466740213606), ('poop', 10.278898584111941), ('rlly', 9.94109824471858)]\n",
      "Topic 2:\n",
      "[('love', 592.6004787924971), ('addictive', 209.40316879417094), ('game', 187.71114508548575), ('fun', 31.943800694684548), ('chill', 31.13243297811607), ('much', 31.01672172143151), ('af', 29.39808217120704), ('absolutely', 15.725211640569812), ('bye', 12.551247729817558), ('sleep', 12.227169444676083)]\n",
      "Topic 3:\n",
      "[('boring', 70.65716314791429), ('calculated', 28.2077067223962), ('lmao', 28.064142759214867), ('masterpiece', 20.9640674966572), ('penny', 19.765941723627364), ('worth', 18.713215170997028), ('every', 17.010698595363397), ('sorry', 15.836964794872701), ('eh', 15.485028174380899), ('repetitive', 14.634170528793177)]\n",
      "Topic 4:\n",
      "[('ok', 262.7469439962581), ('guess', 103.42190197643896), ('favorite', 47.516993020294436), ('recomended', 37.788696446639236), ('vroom', 28.845967824120752), ('http', 21.474803474527427), ('openiv', 20.669655332069837), ('behalf', 19.867433724868672), ('drug', 19.381023114909723), ('bang', 18.14454416106766)]\n",
      "Topic 5:\n",
      "[('perfect', 65.84247121335544), ('wheel', 39.79712939949997), ('hot', 36.18608147563558), ('addiction', 29.60633141344065), ('mac', 24.36501156291191), ('game', 23.8925911207936), ('eat', 23.31418618586603), ('man', 21.67681391428647), ('seek', 20.07612535824905), ('laggy', 19.575163547220235)]\n",
      "Topic 6:\n",
      "[('game', 1163.9618066957214), ('monster', 873.0078439189033), ('hunter', 498.47247686147887), ('wa', 406.55434431267673), ('pc', 389.3450805493133), ('like', 375.79670557184875), ('get', 373.3877774504014), ('online', 369.9326677514147), ('time', 335.3076856709991), ('ha', 317.08133986236135)]\n",
      "Topic 7:\n",
      "[('game', 1558.6400236593329), ('fun', 645.8194359942848), ('play', 642.6873828842237), ('car', 572.3451844893445), ('get', 556.5362000318657), ('like', 549.1727042334003), ('rocket', 536.2634447252592), ('league', 451.34848266083134), ('one', 413.0930826254341), ('time', 411.4006345197728)]\n",
      "Topic 8:\n",
      "[('awesome', 282.4038337669093), ('game', 68.14028621243143), ('epic', 56.10869869905217), ('na', 35.786935618431606), ('loving', 34.100500211043325), ('yo', 29.502534157632773), ('soo', 28.118706637848877), ('wan', 25.673088587413798), ('simply', 22.901309839954145), ('banned', 22.308561325872535)]\n",
      "Topic 9:\n",
      "[('best', 936.2424695993058), ('ever', 602.9048044053111), ('game', 440.82739955686714), ('played', 313.1360108437531), ('one', 302.876255769259), ('ive', 216.40281755925085), ('mod', 124.02044623510662), ('year', 123.11268119461624), ('take', 118.41923124563202), ('two', 104.60156380943957)]\n",
      "Topic 10:\n",
      "[('fifa', 179.27517818138455), ('wow', 89.51207036381969), ('badge', 69.24219640512976), ('better', 46.877226318886876), ('yea', 26.90444058894311), ('pe', 26.049218684436067), ('realistic', 20.799241002373158), ('game', 18.516302036187565), ('interesting', 18.285683015103764), ('kappa', 13.96100125071864)]\n",
      "Topic 11:\n",
      "[('buy', 201.11102920834793), ('suck', 199.86120411995674), ('simulator', 75.53297652033325), ('game', 74.54180929367334), ('aight', 55.24677552007922), ('greatest', 45.880375599668774), ('would', 39.551444022544686), ('truck', 35.35355055081287), ('already', 31.801797706684788), ('fav', 25.88417348023992)]\n",
      "Topic 12:\n",
      "[('great', 1156.3756669282411), ('game', 628.9626112559371), ('alright', 185.07647614166422), ('awsome', 170.1498832575986), ('ing', 106.94815131235757), ('hate', 78.65229040048057), ('community', 73.00994103696807), ('stop', 62.99842978133183), ('toxic', 60.76856743782062), ('cant', 42.23849217539308)]\n",
      "Topic 13:\n",
      "[('received', 1322.0876602402661), ('product', 1313.4544062786379), ('free', 1309.9399741387463), ('killer', 726.8818954901909), ('game', 592.5914767459791), ('survivor', 472.95357450722076), ('good', 278.85552338817206), ('fun', 217.92257787046208), ('play', 206.38932109794877), ('get', 193.02692003742007)]\n",
      "Topic 14:\n",
      "[('job', 188.1459046204845), ('far', 149.595333015011), ('pretty', 140.16101964183446), ('gud', 116.54497868563503), ('good', 105.44743027989261), ('trash', 85.39761135457489), ('savewhat', 80.48511244811309), ('think', 74.77948286916346), ('top', 60.8012071828319), ('disabled', 54.89334735385382)]\n",
      "Topic 15:\n",
      "[('worth', 63.44074956142998), ('dope', 48.12337675967456), ('skyrim', 24.680613007168493), ('mom', 19.197485502842365), ('hella', 17.928925465689584), ('awesomeness', 17.20723626114743), ('sex', 16.51980120730687), ('recomand', 15.37009518262418), ('pure', 14.663365469965335), ('boi', 14.072449308551942)]\n",
      "Topic 16:\n",
      "[('good', 827.0859491182458), ('cool', 485.9758750274836), ('pretty', 369.2414748113687), ('game', 276.3138550533898), ('funny', 83.09066957173926), ('award', 68.43026114122169), ('yes', 59.27234864921846), ('yeah', 58.36475097203306), ('thats', 51.01058777077829), ('ball', 43.4147086354662)]\n",
      "Topic 17:\n"
     ]
    },
    {
     "name": "stdout",
     "output_type": "stream",
     "text": [
      "[('game', 1186.9926394339507), ('server', 505.60263905798405), ('issue', 490.02478808047334), ('fix', 478.02129712288297), ('play', 462.8338680210085), ('good', 387.16840274403864), ('bug', 366.43365062505904), ('fun', 359.99985459387176), ('cant', 325.6129158225195), ('great', 325.1304118188592)]\n",
      "Topic 18:\n",
      "[('fun', 2228.6181769461605), ('game', 1938.1981342369147), ('play', 1314.3485496122198), ('friend', 1282.3584014973387), ('great', 784.3394578710643), ('really', 765.6758000343796), ('good', 703.8832764649927), ('amazing', 517.569597207207), ('recommend', 504.56111712598954), ('addicting', 416.58309804384646)]\n",
      "Topic 19:\n",
      "[('car', 807.2817911786601), ('soccer', 566.9612354285612), ('football', 421.951464103874), ('rocket', 348.8464886127661), ('like', 278.41004851267735), ('game', 259.30817141047294), ('lt', 227.33876317803777), ('ball', 225.15103326743022), ('league', 215.5811669489085), ('love', 169.13522832409245)]\n",
      "\n",
      "\n",
      " number of components = 30\n",
      "Topic 0:\n",
      "[('ign', 72.51999775219038), ('sooooo', 14.401031853211643), ('leauge', 12.522077127352334), ('bumper', 10.384668415857146), ('gut', 10.148318466489245), ('phenomenal', 9.891900331003496), ('intresting', 8.097388609117447), ('chicken', 7.268832222918933), ('bed', 6.719982707689859), ('soccercars', 6.447684423777109)]\n",
      "Topic 1:\n",
      "[('great', 1275.9914770424434), ('game', 675.6071459858438), ('pretty', 461.3276304986877), ('good', 301.700856959366), ('job', 203.43686947524375), ('far', 161.99971036760107), ('think', 90.43292351119896), ('fun', 51.922694527118246), ('co', 47.073828536602655), ('op', 45.98816605085703)]\n",
      "Topic 2:\n",
      "[('game', 93.4864673558017), ('crash', 72.00248413547548), ('run', 61.68289695832783), ('computer', 60.920497407786044), ('laggy', 53.488942385707354), ('chill', 49.360562356992375), ('fps', 42.59706867751799), ('good', 38.5047859234587), ('work', 33.51764858130229), ('play', 31.708318435778562)]\n",
      "Topic 3:\n",
      "[('game', 31.52361404065899), ('wonderful', 29.0155616018927), ('cross', 25.442166376535834), ('platform', 24.63020229464129), ('friendship', 24.431177087812355), ('coop', 23.80768368644796), ('linux', 22.406733758606656), ('bang', 22.202543780286625), ('family', 20.568546796478472), ('meh', 20.30128777751667)]\n",
      "Topic 4:\n",
      "[('addicting', 217.1933877470445), ('interesting', 31.348222669358158), ('neat', 29.3266780320938), ('meme', 29.19649191923858), ('game', 28.87788646007915), ('pls', 28.784491406624277), ('terrible', 26.56908993424944), ('fun', 25.71868787436019), ('masterpiece', 16.494780089873206), ('relax', 13.4767266350257)]\n",
      "Topic 5:\n",
      "[('love', 710.2050870641473), ('game', 282.6249291968797), ('lt', 209.0630621310871), ('ing', 155.46582447732112), ('hate', 120.86722276233812), ('cancer', 71.4547124534361), ('life', 62.64690268295625), ('epic', 54.77212033478843), ('much', 52.56618124877559), ('good', 46.77341304359478)]\n",
      "Topic 6:\n",
      "[('received', 1306.4980820969274), ('product', 1296.592882982433), ('free', 1255.6027375897936), ('game', 200.3583502847498), ('good', 167.81018262775152), ('nice', 123.85192429497828), ('fun', 63.040772548454555), ('okay', 61.312753481787155), ('best', 43.75039351953965), ('love', 43.668407336631944)]\n",
      "Topic 7:\n",
      "[('gr', 46.83758911757549), ('banned', 37.28170250950435), ('reason', 29.35382576451351), ('spooky', 28.241279493055494), ('relaxing', 26.112750890059463), ('son', 18.154417661874334), ('ez', 17.760326497847704), ('game', 15.22303482962969), ('got', 14.417029815787378), ('childhood', 14.080759648387975)]\n",
      "Topic 8:\n",
      "[('fun', 1928.8762779119227), ('game', 1670.7480470078895), ('friend', 1352.7027587643463), ('play', 1314.2681298727957), ('really', 666.9121042574615), ('great', 615.5985233867553), ('good', 570.2475041752199), ('recommend', 497.0716875309435), ('lot', 418.2540970199387), ('would', 414.13517540824256)]\n",
      "Topic 9:\n",
      "[('game', 159.3805603056201), ('skill', 143.0362816751186), ('save', 136.5947314289421), ('amazing', 134.9779690798524), ('recommended', 97.56174751730227), ('learning', 90.79717464317092), ('curve', 85.90539321127052), ('high', 67.3555883558512), ('ceiling', 61.517002088560744), ('fun', 54.32327514654152)]\n",
      "Topic 10:\n",
      "[('soccer', 585.669793463902), ('car', 581.0181916507227), ('awesome', 400.9027821843921), ('game', 227.60161045960058), ('rocket', 168.80402371685693), ('like', 140.3499089424168), ('ball', 118.64389601153246), ('fun', 106.95704978892155), ('football', 99.52215631545532), ('powered', 76.9630714503698)]\n",
      "Topic 11:\n",
      "[('ok', 264.20395848862483), ('sick', 90.18547858307369), ('error', 47.85803683505721), ('mw', 41.01518167195834), ('badge', 39.27681773922729), ('guess', 35.75381113077951), ('eat', 24.24168638660812), ('code', 22.121249243535793), ('game', 21.54973441474523), ('piece', 20.310398394455984)]\n",
      "Topic 12:\n",
      "[('top', 77.14716646859851), ('gay', 20.34897983203562), ('mom', 19.138307368590286), ('cup', 13.07103234176453), ('gear', 12.74376649099254), ('gaem', 10.81422499503232), ('tryhards', 9.918220299448125), ('tea', 9.159541621442777), ('peace', 8.641603453117721), ('game', 8.569102495261218)]\n",
      "Topic 13:\n",
      "[('worth', 256.42260800350067), ('money', 111.09464654858478), ('wow', 82.74656565146722), ('scary', 82.25391953056878), ('fantastic', 62.11895547176646), ('game', 59.60712770578051), ('waste', 59.19936985852042), ('totally', 36.93613101389643), ('buying', 34.12547820851389), ('fun', 30.64297907742381)]\n",
      "Topic 14:\n",
      "[('nice', 877.677528004373), ('game', 386.93795566043565), ('football', 334.42160422890765), ('car', 260.8992013831084), ('rocket', 258.5620246342718), ('league', 217.35478757477532), ('like', 188.18004145356556), ('awsome', 172.42480632629758), ('must', 125.55977525502509), ('good', 84.9481008669323)]\n",
      "Topic 15:\n",
      "[('best', 1198.0200384171915), ('game', 852.766031604262), ('ever', 783.6497942381745), ('played', 598.2365119491484), ('one', 528.4503377214025), ('ive', 389.3202742390914), ('year', 216.93733954212007), ('hour', 213.89251030994518), ('fun', 202.23243615475417), ('favorite', 182.1460132848179)]\n",
      "Topic 16:\n",
      "[('buy', 288.02159283305326), ('lit', 74.77816128382607), ('game', 60.34261413227146), ('regret', 40.80549384725495), ('would', 39.781539226883616), ('dont', 39.46942131349199), ('already', 38.65461589905991), ('wont', 36.7369857780593), ('noice', 36.17355619108162), ('mod', 36.06621229360037)]\n",
      "Topic 17:\n",
      "[('fifa', 173.51200871278695), ('boring', 82.74370878522043), ('better', 45.29461111871148), ('crack', 40.944707901135686), ('pe', 23.837415763830325), ('soul', 22.0250794931232), ('entertaining', 20.136060291566675), ('dark', 16.85772213209709), ('game', 15.446075564409714), ('like', 15.430614670443662)]\n",
      "Topic 18:\n",
      "[('game', 1359.0933910907725), ('killer', 953.7486426286957), ('survivor', 604.8671222484218), ('get', 579.7919253835777), ('play', 555.9933530246974), ('dont', 443.0991343039772), ('fun', 440.61917126468495), ('time', 404.5946056178502), ('good', 383.0710814635664), ('like', 373.6324908617896)]\n",
      "Topic 19:\n",
      "[('rage', 48.86827460983503), ('inducing', 20.909780475917348), ('luv', 17.457747550039517), ('scream', 16.676417600401685), ('yelled', 15.929243228563838), ('angry', 12.949491785150142), ('lucioball', 11.943470226511645), ('chase', 11.206445599802004), ('pickle', 9.393764229249316), ('pass', 9.201111052139723)]\n",
      "Topic 20:\n",
      "[('ball', 216.23330219747814), ('hit', 103.98770237312499), ('goal', 96.16740633024354), ('car', 80.58321473292257), ('score', 65.83183186673718), ('would', 62.289732686710025), ('fly', 61.737525229892825), ('miss', 35.48185071115447), ('aerial', 34.72051149943171), ('hitting', 30.898470649157623)]\n",
      "Topic 21:\n",
      "[('trash', 99.56646910926028), ('savewhat', 80.46844578227687), ('disabled', 69.08537082027937), ('second', 40.9593181141921), ('savechat', 22.18001408406866), ('funniest', 20.088230319846872), ('aid', 19.183786681153933), ('save', 18.281603515793496), ('game', 15.847101949755583), ('banter', 13.1331229879073)]\n",
      "Topic 22:\n",
      "[('good', 697.5816882214456), ('cool', 464.18559235002675), ('game', 257.5705114102211), ('award', 81.07041331211579), ('really', 75.51609849908844), ('fun', 57.7813187845277), ('aight', 52.758401976128546), ('badge', 42.32952918116301), ('simply', 33.32697796758855), ('review', 33.14794168245522)]\n",
      "Topic 23:\n",
      "[('mod', 277.0387866801565), ('take', 245.84013411310218), ('modding', 227.57213917705937), ('two', 215.21022221831285), ('gta', 144.44439975160364), ('rockstar', 133.95550645344272), ('openiv', 107.76157269776057), ('game', 78.81127113790774), ('support', 73.65047025270466), ('online', 73.09064795062348)]\n",
      "Topic 24:\n"
     ]
    },
    {
     "name": "stdout",
     "output_type": "stream",
     "text": [
      "[('stop', 107.90887777311), ('cant', 63.86992861839384), ('playing', 47.135408812454905), ('gg', 34.91708967141624), ('rip', 34.27594230501969), ('reading', 26.257261969940455), ('openiv', 25.389911923165524), ('game', 23.31430865556663), ('behalf', 18.039083062512773), ('iv', 16.070740655203284)]\n",
      "Topic 25:\n",
      "[('civ', 80.67729229179847), ('dead', 56.531389620545546), ('daylight', 33.128978552912955), ('battle', 32.113381690078434), ('acrobatic', 27.83319824650273), ('supersonic', 24.69603840457537), ('game', 23.773615406105083), ('civilization', 21.573080667835978), ('plz', 21.438656643586754), ('powered', 19.62172534146185)]\n",
      "Topic 26:\n",
      "[('alright', 188.34344240506002), ('gud', 125.92781397685202), ('monster', 98.83204251429592), ('guess', 96.20199509811287), ('hunter', 88.96856618198848), ('perfect', 86.10942855291455), ('yeah', 51.10142085430692), ('connection', 46.09974310232823), ('game', 38.9347025451241), ('fixed', 34.38383961178934)]\n",
      "Topic 27:\n",
      "[('game', 1841.043268269995), ('monster', 828.7979437690902), ('like', 621.03985160575), ('play', 578.9917528530773), ('issue', 577.0034433241368), ('get', 571.1475415860785), ('great', 546.9366175430991), ('fun', 546.371984860439), ('ha', 534.4067996939348), ('time', 517.4794122933498)]\n",
      "Topic 28:\n",
      "[('suck', 221.94842287972892), ('addicted', 90.89607221966371), ('game', 37.60295596484581), ('mario', 26.10883127716824), ('rock', 25.622875291395054), ('kart', 22.36842312903984), ('loved', 22.322951645498954), ('wwwyoutubecomwatchv', 20.29514201636939), ('quality', 17.593805856602987), ('im', 16.777751687296853)]\n",
      "Topic 29:\n",
      "[('addictive', 389.8060103785248), ('easy', 345.936424154339), ('master', 327.13217261250367), ('hard', 326.6332764239119), ('fun', 279.601675736497), ('game', 240.74312026856265), ('learn', 217.7298879602072), ('simple', 170.26113700167863), ('play', 131.7944743434781), ('fast', 131.4405717983915)]\n"
     ]
    },
    {
     "ename": "KeyboardInterrupt",
     "evalue": "",
     "output_type": "error",
     "traceback": [
      "\u001b[0;31m---------------------------------------------------------------------------\u001b[0m",
      "\u001b[0;31mKeyboardInterrupt\u001b[0m                         Traceback (most recent call last)",
      "Input \u001b[0;32mIn [65]\u001b[0m, in \u001b[0;36m<module>\u001b[0;34m\u001b[0m\n\u001b[1;32m      1\u001b[0m \u001b[38;5;28;01mfor\u001b[39;00m n \u001b[38;5;129;01min\u001b[39;00m \u001b[38;5;28mrange\u001b[39m(\u001b[38;5;241m10\u001b[39m,\u001b[38;5;241m100\u001b[39m,\u001b[38;5;241m10\u001b[39m):\n\u001b[0;32m----> 2\u001b[0m     lda_model \u001b[38;5;241m=\u001b[39m \u001b[43mcomp_iter\u001b[49m\u001b[43m(\u001b[49m\u001b[43mn\u001b[49m\u001b[43m)\u001b[49m\n\u001b[1;32m      3\u001b[0m     \u001b[38;5;28mprint\u001b[39m(\u001b[38;5;124mf\u001b[39m\u001b[38;5;124m'\u001b[39m\u001b[38;5;130;01m\\n\u001b[39;00m\u001b[38;5;130;01m\\n\u001b[39;00m\u001b[38;5;124m number of components = \u001b[39m\u001b[38;5;132;01m{\u001b[39;00mn\u001b[38;5;132;01m}\u001b[39;00m\u001b[38;5;124m'\u001b[39m)\n\u001b[1;32m      4\u001b[0m     print_topics(lda_model, vectorizer)\n",
      "Input \u001b[0;32mIn [57]\u001b[0m, in \u001b[0;36mcomp_iter\u001b[0;34m(n)\u001b[0m\n\u001b[1;32m      6\u001b[0m vectorizer \u001b[38;5;241m=\u001b[39m TfidfVectorizer()\u001b[38;5;241m.\u001b[39mfit(X[\u001b[38;5;124m'\u001b[39m\u001b[38;5;124mreview_clean\u001b[39m\u001b[38;5;124m'\u001b[39m]\u001b[38;5;241m.\u001b[39mhead(\u001b[38;5;241m100000\u001b[39m))\n\u001b[1;32m      8\u001b[0m data_vectorized \u001b[38;5;241m=\u001b[39m vectorizer\u001b[38;5;241m.\u001b[39mtransform(X[\u001b[38;5;124m'\u001b[39m\u001b[38;5;124mreview_clean\u001b[39m\u001b[38;5;124m'\u001b[39m]\u001b[38;5;241m.\u001b[39mhead(\u001b[38;5;241m100000\u001b[39m))\n\u001b[0;32m---> 10\u001b[0m lda_model \u001b[38;5;241m=\u001b[39m \u001b[43mLatentDirichletAllocation\u001b[49m\u001b[43m(\u001b[49m\u001b[43mn_components\u001b[49m\u001b[38;5;241;43m=\u001b[39;49m\u001b[43mn\u001b[49m\u001b[43m)\u001b[49m\u001b[38;5;241;43m.\u001b[39;49m\u001b[43mfit\u001b[49m\u001b[43m(\u001b[49m\u001b[43mdata_vectorized\u001b[49m\u001b[43m)\u001b[49m\n\u001b[1;32m     12\u001b[0m \u001b[38;5;28;01mreturn\u001b[39;00m lda_model\n",
      "File \u001b[0;32m~/.pyenv/versions/3.8.12/envs/customerchurn/lib/python3.8/site-packages/sklearn/decomposition/_lda.py:638\u001b[0m, in \u001b[0;36mLatentDirichletAllocation.fit\u001b[0;34m(self, X, y)\u001b[0m\n\u001b[1;32m    630\u001b[0m         \u001b[38;5;28mself\u001b[39m\u001b[38;5;241m.\u001b[39m_em_step(\n\u001b[1;32m    631\u001b[0m             X[idx_slice, :],\n\u001b[1;32m    632\u001b[0m             total_samples\u001b[38;5;241m=\u001b[39mn_samples,\n\u001b[1;32m    633\u001b[0m             batch_update\u001b[38;5;241m=\u001b[39m\u001b[38;5;28;01mFalse\u001b[39;00m,\n\u001b[1;32m    634\u001b[0m             parallel\u001b[38;5;241m=\u001b[39mparallel,\n\u001b[1;32m    635\u001b[0m         )\n\u001b[1;32m    636\u001b[0m \u001b[38;5;28;01melse\u001b[39;00m:\n\u001b[1;32m    637\u001b[0m     \u001b[38;5;66;03m# batch update\u001b[39;00m\n\u001b[0;32m--> 638\u001b[0m     \u001b[38;5;28;43mself\u001b[39;49m\u001b[38;5;241;43m.\u001b[39;49m\u001b[43m_em_step\u001b[49m\u001b[43m(\u001b[49m\n\u001b[1;32m    639\u001b[0m \u001b[43m        \u001b[49m\u001b[43mX\u001b[49m\u001b[43m,\u001b[49m\u001b[43m \u001b[49m\u001b[43mtotal_samples\u001b[49m\u001b[38;5;241;43m=\u001b[39;49m\u001b[43mn_samples\u001b[49m\u001b[43m,\u001b[49m\u001b[43m \u001b[49m\u001b[43mbatch_update\u001b[49m\u001b[38;5;241;43m=\u001b[39;49m\u001b[38;5;28;43;01mTrue\u001b[39;49;00m\u001b[43m,\u001b[49m\u001b[43m \u001b[49m\u001b[43mparallel\u001b[49m\u001b[38;5;241;43m=\u001b[39;49m\u001b[43mparallel\u001b[49m\n\u001b[1;32m    640\u001b[0m \u001b[43m    \u001b[49m\u001b[43m)\u001b[49m\n\u001b[1;32m    642\u001b[0m \u001b[38;5;66;03m# check perplexity\u001b[39;00m\n\u001b[1;32m    643\u001b[0m \u001b[38;5;28;01mif\u001b[39;00m evaluate_every \u001b[38;5;241m>\u001b[39m \u001b[38;5;241m0\u001b[39m \u001b[38;5;129;01mand\u001b[39;00m (i \u001b[38;5;241m+\u001b[39m \u001b[38;5;241m1\u001b[39m) \u001b[38;5;241m%\u001b[39m evaluate_every \u001b[38;5;241m==\u001b[39m \u001b[38;5;241m0\u001b[39m:\n",
      "File \u001b[0;32m~/.pyenv/versions/3.8.12/envs/customerchurn/lib/python3.8/site-packages/sklearn/decomposition/_lda.py:501\u001b[0m, in \u001b[0;36mLatentDirichletAllocation._em_step\u001b[0;34m(self, X, total_samples, batch_update, parallel)\u001b[0m\n\u001b[1;32m    474\u001b[0m \u001b[38;5;124;03m\"\"\"EM update for 1 iteration.\u001b[39;00m\n\u001b[1;32m    475\u001b[0m \n\u001b[1;32m    476\u001b[0m \u001b[38;5;124;03mupdate `_component` by batch VB or online VB.\u001b[39;00m\n\u001b[0;32m   (...)\u001b[0m\n\u001b[1;32m    497\u001b[0m \u001b[38;5;124;03m    Unnormalized document topic distribution.\u001b[39;00m\n\u001b[1;32m    498\u001b[0m \u001b[38;5;124;03m\"\"\"\u001b[39;00m\n\u001b[1;32m    500\u001b[0m \u001b[38;5;66;03m# E-step\u001b[39;00m\n\u001b[0;32m--> 501\u001b[0m _, suff_stats \u001b[38;5;241m=\u001b[39m \u001b[38;5;28;43mself\u001b[39;49m\u001b[38;5;241;43m.\u001b[39;49m\u001b[43m_e_step\u001b[49m\u001b[43m(\u001b[49m\n\u001b[1;32m    502\u001b[0m \u001b[43m    \u001b[49m\u001b[43mX\u001b[49m\u001b[43m,\u001b[49m\u001b[43m \u001b[49m\u001b[43mcal_sstats\u001b[49m\u001b[38;5;241;43m=\u001b[39;49m\u001b[38;5;28;43;01mTrue\u001b[39;49;00m\u001b[43m,\u001b[49m\u001b[43m \u001b[49m\u001b[43mrandom_init\u001b[49m\u001b[38;5;241;43m=\u001b[39;49m\u001b[38;5;28;43;01mTrue\u001b[39;49;00m\u001b[43m,\u001b[49m\u001b[43m \u001b[49m\u001b[43mparallel\u001b[49m\u001b[38;5;241;43m=\u001b[39;49m\u001b[43mparallel\u001b[49m\n\u001b[1;32m    503\u001b[0m \u001b[43m\u001b[49m\u001b[43m)\u001b[49m\n\u001b[1;32m    505\u001b[0m \u001b[38;5;66;03m# M-step\u001b[39;00m\n\u001b[1;32m    506\u001b[0m \u001b[38;5;28;01mif\u001b[39;00m batch_update:\n",
      "File \u001b[0;32m~/.pyenv/versions/3.8.12/envs/customerchurn/lib/python3.8/site-packages/sklearn/decomposition/_lda.py:444\u001b[0m, in \u001b[0;36mLatentDirichletAllocation._e_step\u001b[0;34m(self, X, cal_sstats, random_init, parallel)\u001b[0m\n\u001b[1;32m    442\u001b[0m \u001b[38;5;28;01mif\u001b[39;00m parallel \u001b[38;5;129;01mis\u001b[39;00m \u001b[38;5;28;01mNone\u001b[39;00m:\n\u001b[1;32m    443\u001b[0m     parallel \u001b[38;5;241m=\u001b[39m Parallel(n_jobs\u001b[38;5;241m=\u001b[39mn_jobs, verbose\u001b[38;5;241m=\u001b[39m\u001b[38;5;28mmax\u001b[39m(\u001b[38;5;241m0\u001b[39m, \u001b[38;5;28mself\u001b[39m\u001b[38;5;241m.\u001b[39mverbose \u001b[38;5;241m-\u001b[39m \u001b[38;5;241m1\u001b[39m))\n\u001b[0;32m--> 444\u001b[0m results \u001b[38;5;241m=\u001b[39m \u001b[43mparallel\u001b[49m\u001b[43m(\u001b[49m\n\u001b[1;32m    445\u001b[0m \u001b[43m    \u001b[49m\u001b[43mdelayed\u001b[49m\u001b[43m(\u001b[49m\u001b[43m_update_doc_distribution\u001b[49m\u001b[43m)\u001b[49m\u001b[43m(\u001b[49m\n\u001b[1;32m    446\u001b[0m \u001b[43m        \u001b[49m\u001b[43mX\u001b[49m\u001b[43m[\u001b[49m\u001b[43midx_slice\u001b[49m\u001b[43m,\u001b[49m\u001b[43m \u001b[49m\u001b[43m:\u001b[49m\u001b[43m]\u001b[49m\u001b[43m,\u001b[49m\n\u001b[1;32m    447\u001b[0m \u001b[43m        \u001b[49m\u001b[38;5;28;43mself\u001b[39;49m\u001b[38;5;241;43m.\u001b[39;49m\u001b[43mexp_dirichlet_component_\u001b[49m\u001b[43m,\u001b[49m\n\u001b[1;32m    448\u001b[0m \u001b[43m        \u001b[49m\u001b[38;5;28;43mself\u001b[39;49m\u001b[38;5;241;43m.\u001b[39;49m\u001b[43mdoc_topic_prior_\u001b[49m\u001b[43m,\u001b[49m\n\u001b[1;32m    449\u001b[0m \u001b[43m        \u001b[49m\u001b[38;5;28;43mself\u001b[39;49m\u001b[38;5;241;43m.\u001b[39;49m\u001b[43mmax_doc_update_iter\u001b[49m\u001b[43m,\u001b[49m\n\u001b[1;32m    450\u001b[0m \u001b[43m        \u001b[49m\u001b[38;5;28;43mself\u001b[39;49m\u001b[38;5;241;43m.\u001b[39;49m\u001b[43mmean_change_tol\u001b[49m\u001b[43m,\u001b[49m\n\u001b[1;32m    451\u001b[0m \u001b[43m        \u001b[49m\u001b[43mcal_sstats\u001b[49m\u001b[43m,\u001b[49m\n\u001b[1;32m    452\u001b[0m \u001b[43m        \u001b[49m\u001b[43mrandom_state\u001b[49m\u001b[43m,\u001b[49m\n\u001b[1;32m    453\u001b[0m \u001b[43m    \u001b[49m\u001b[43m)\u001b[49m\n\u001b[1;32m    454\u001b[0m \u001b[43m    \u001b[49m\u001b[38;5;28;43;01mfor\u001b[39;49;00m\u001b[43m \u001b[49m\u001b[43midx_slice\u001b[49m\u001b[43m \u001b[49m\u001b[38;5;129;43;01min\u001b[39;49;00m\u001b[43m \u001b[49m\u001b[43mgen_even_slices\u001b[49m\u001b[43m(\u001b[49m\u001b[43mX\u001b[49m\u001b[38;5;241;43m.\u001b[39;49m\u001b[43mshape\u001b[49m\u001b[43m[\u001b[49m\u001b[38;5;241;43m0\u001b[39;49m\u001b[43m]\u001b[49m\u001b[43m,\u001b[49m\u001b[43m \u001b[49m\u001b[43mn_jobs\u001b[49m\u001b[43m)\u001b[49m\n\u001b[1;32m    455\u001b[0m \u001b[43m\u001b[49m\u001b[43m)\u001b[49m\n\u001b[1;32m    457\u001b[0m \u001b[38;5;66;03m# merge result\u001b[39;00m\n\u001b[1;32m    458\u001b[0m doc_topics, sstats_list \u001b[38;5;241m=\u001b[39m \u001b[38;5;28mzip\u001b[39m(\u001b[38;5;241m*\u001b[39mresults)\n",
      "File \u001b[0;32m~/.pyenv/versions/3.8.12/envs/customerchurn/lib/python3.8/site-packages/joblib/parallel.py:1043\u001b[0m, in \u001b[0;36mParallel.__call__\u001b[0;34m(self, iterable)\u001b[0m\n\u001b[1;32m   1034\u001b[0m \u001b[38;5;28;01mtry\u001b[39;00m:\n\u001b[1;32m   1035\u001b[0m     \u001b[38;5;66;03m# Only set self._iterating to True if at least a batch\u001b[39;00m\n\u001b[1;32m   1036\u001b[0m     \u001b[38;5;66;03m# was dispatched. In particular this covers the edge\u001b[39;00m\n\u001b[0;32m   (...)\u001b[0m\n\u001b[1;32m   1040\u001b[0m     \u001b[38;5;66;03m# was very quick and its callback already dispatched all the\u001b[39;00m\n\u001b[1;32m   1041\u001b[0m     \u001b[38;5;66;03m# remaining jobs.\u001b[39;00m\n\u001b[1;32m   1042\u001b[0m     \u001b[38;5;28mself\u001b[39m\u001b[38;5;241m.\u001b[39m_iterating \u001b[38;5;241m=\u001b[39m \u001b[38;5;28;01mFalse\u001b[39;00m\n\u001b[0;32m-> 1043\u001b[0m     \u001b[38;5;28;01mif\u001b[39;00m \u001b[38;5;28;43mself\u001b[39;49m\u001b[38;5;241;43m.\u001b[39;49m\u001b[43mdispatch_one_batch\u001b[49m\u001b[43m(\u001b[49m\u001b[43miterator\u001b[49m\u001b[43m)\u001b[49m:\n\u001b[1;32m   1044\u001b[0m         \u001b[38;5;28mself\u001b[39m\u001b[38;5;241m.\u001b[39m_iterating \u001b[38;5;241m=\u001b[39m \u001b[38;5;28mself\u001b[39m\u001b[38;5;241m.\u001b[39m_original_iterator \u001b[38;5;129;01mis\u001b[39;00m \u001b[38;5;129;01mnot\u001b[39;00m \u001b[38;5;28;01mNone\u001b[39;00m\n\u001b[1;32m   1046\u001b[0m     \u001b[38;5;28;01mwhile\u001b[39;00m \u001b[38;5;28mself\u001b[39m\u001b[38;5;241m.\u001b[39mdispatch_one_batch(iterator):\n",
      "File \u001b[0;32m~/.pyenv/versions/3.8.12/envs/customerchurn/lib/python3.8/site-packages/joblib/parallel.py:861\u001b[0m, in \u001b[0;36mParallel.dispatch_one_batch\u001b[0;34m(self, iterator)\u001b[0m\n\u001b[1;32m    859\u001b[0m     \u001b[38;5;28;01mreturn\u001b[39;00m \u001b[38;5;28;01mFalse\u001b[39;00m\n\u001b[1;32m    860\u001b[0m \u001b[38;5;28;01melse\u001b[39;00m:\n\u001b[0;32m--> 861\u001b[0m     \u001b[38;5;28;43mself\u001b[39;49m\u001b[38;5;241;43m.\u001b[39;49m\u001b[43m_dispatch\u001b[49m\u001b[43m(\u001b[49m\u001b[43mtasks\u001b[49m\u001b[43m)\u001b[49m\n\u001b[1;32m    862\u001b[0m     \u001b[38;5;28;01mreturn\u001b[39;00m \u001b[38;5;28;01mTrue\u001b[39;00m\n",
      "File \u001b[0;32m~/.pyenv/versions/3.8.12/envs/customerchurn/lib/python3.8/site-packages/joblib/parallel.py:779\u001b[0m, in \u001b[0;36mParallel._dispatch\u001b[0;34m(self, batch)\u001b[0m\n\u001b[1;32m    777\u001b[0m \u001b[38;5;28;01mwith\u001b[39;00m \u001b[38;5;28mself\u001b[39m\u001b[38;5;241m.\u001b[39m_lock:\n\u001b[1;32m    778\u001b[0m     job_idx \u001b[38;5;241m=\u001b[39m \u001b[38;5;28mlen\u001b[39m(\u001b[38;5;28mself\u001b[39m\u001b[38;5;241m.\u001b[39m_jobs)\n\u001b[0;32m--> 779\u001b[0m     job \u001b[38;5;241m=\u001b[39m \u001b[38;5;28;43mself\u001b[39;49m\u001b[38;5;241;43m.\u001b[39;49m\u001b[43m_backend\u001b[49m\u001b[38;5;241;43m.\u001b[39;49m\u001b[43mapply_async\u001b[49m\u001b[43m(\u001b[49m\u001b[43mbatch\u001b[49m\u001b[43m,\u001b[49m\u001b[43m \u001b[49m\u001b[43mcallback\u001b[49m\u001b[38;5;241;43m=\u001b[39;49m\u001b[43mcb\u001b[49m\u001b[43m)\u001b[49m\n\u001b[1;32m    780\u001b[0m     \u001b[38;5;66;03m# A job can complete so quickly than its callback is\u001b[39;00m\n\u001b[1;32m    781\u001b[0m     \u001b[38;5;66;03m# called before we get here, causing self._jobs to\u001b[39;00m\n\u001b[1;32m    782\u001b[0m     \u001b[38;5;66;03m# grow. To ensure correct results ordering, .insert is\u001b[39;00m\n\u001b[1;32m    783\u001b[0m     \u001b[38;5;66;03m# used (rather than .append) in the following line\u001b[39;00m\n\u001b[1;32m    784\u001b[0m     \u001b[38;5;28mself\u001b[39m\u001b[38;5;241m.\u001b[39m_jobs\u001b[38;5;241m.\u001b[39minsert(job_idx, job)\n",
      "File \u001b[0;32m~/.pyenv/versions/3.8.12/envs/customerchurn/lib/python3.8/site-packages/joblib/_parallel_backends.py:208\u001b[0m, in \u001b[0;36mSequentialBackend.apply_async\u001b[0;34m(self, func, callback)\u001b[0m\n\u001b[1;32m    206\u001b[0m \u001b[38;5;28;01mdef\u001b[39;00m \u001b[38;5;21mapply_async\u001b[39m(\u001b[38;5;28mself\u001b[39m, func, callback\u001b[38;5;241m=\u001b[39m\u001b[38;5;28;01mNone\u001b[39;00m):\n\u001b[1;32m    207\u001b[0m     \u001b[38;5;124;03m\"\"\"Schedule a func to be run\"\"\"\u001b[39;00m\n\u001b[0;32m--> 208\u001b[0m     result \u001b[38;5;241m=\u001b[39m \u001b[43mImmediateResult\u001b[49m\u001b[43m(\u001b[49m\u001b[43mfunc\u001b[49m\u001b[43m)\u001b[49m\n\u001b[1;32m    209\u001b[0m     \u001b[38;5;28;01mif\u001b[39;00m callback:\n\u001b[1;32m    210\u001b[0m         callback(result)\n",
      "File \u001b[0;32m~/.pyenv/versions/3.8.12/envs/customerchurn/lib/python3.8/site-packages/joblib/_parallel_backends.py:572\u001b[0m, in \u001b[0;36mImmediateResult.__init__\u001b[0;34m(self, batch)\u001b[0m\n\u001b[1;32m    569\u001b[0m \u001b[38;5;28;01mdef\u001b[39;00m \u001b[38;5;21m__init__\u001b[39m(\u001b[38;5;28mself\u001b[39m, batch):\n\u001b[1;32m    570\u001b[0m     \u001b[38;5;66;03m# Don't delay the application, to avoid keeping the input\u001b[39;00m\n\u001b[1;32m    571\u001b[0m     \u001b[38;5;66;03m# arguments in memory\u001b[39;00m\n\u001b[0;32m--> 572\u001b[0m     \u001b[38;5;28mself\u001b[39m\u001b[38;5;241m.\u001b[39mresults \u001b[38;5;241m=\u001b[39m \u001b[43mbatch\u001b[49m\u001b[43m(\u001b[49m\u001b[43m)\u001b[49m\n",
      "File \u001b[0;32m~/.pyenv/versions/3.8.12/envs/customerchurn/lib/python3.8/site-packages/joblib/parallel.py:262\u001b[0m, in \u001b[0;36mBatchedCalls.__call__\u001b[0;34m(self)\u001b[0m\n\u001b[1;32m    258\u001b[0m \u001b[38;5;28;01mdef\u001b[39;00m \u001b[38;5;21m__call__\u001b[39m(\u001b[38;5;28mself\u001b[39m):\n\u001b[1;32m    259\u001b[0m     \u001b[38;5;66;03m# Set the default nested backend to self._backend but do not set the\u001b[39;00m\n\u001b[1;32m    260\u001b[0m     \u001b[38;5;66;03m# change the default number of processes to -1\u001b[39;00m\n\u001b[1;32m    261\u001b[0m     \u001b[38;5;28;01mwith\u001b[39;00m parallel_backend(\u001b[38;5;28mself\u001b[39m\u001b[38;5;241m.\u001b[39m_backend, n_jobs\u001b[38;5;241m=\u001b[39m\u001b[38;5;28mself\u001b[39m\u001b[38;5;241m.\u001b[39m_n_jobs):\n\u001b[0;32m--> 262\u001b[0m         \u001b[38;5;28;01mreturn\u001b[39;00m [func(\u001b[38;5;241m*\u001b[39margs, \u001b[38;5;241m*\u001b[39m\u001b[38;5;241m*\u001b[39mkwargs)\n\u001b[1;32m    263\u001b[0m                 \u001b[38;5;28;01mfor\u001b[39;00m func, args, kwargs \u001b[38;5;129;01min\u001b[39;00m \u001b[38;5;28mself\u001b[39m\u001b[38;5;241m.\u001b[39mitems]\n",
      "File \u001b[0;32m~/.pyenv/versions/3.8.12/envs/customerchurn/lib/python3.8/site-packages/joblib/parallel.py:262\u001b[0m, in \u001b[0;36m<listcomp>\u001b[0;34m(.0)\u001b[0m\n\u001b[1;32m    258\u001b[0m \u001b[38;5;28;01mdef\u001b[39;00m \u001b[38;5;21m__call__\u001b[39m(\u001b[38;5;28mself\u001b[39m):\n\u001b[1;32m    259\u001b[0m     \u001b[38;5;66;03m# Set the default nested backend to self._backend but do not set the\u001b[39;00m\n\u001b[1;32m    260\u001b[0m     \u001b[38;5;66;03m# change the default number of processes to -1\u001b[39;00m\n\u001b[1;32m    261\u001b[0m     \u001b[38;5;28;01mwith\u001b[39;00m parallel_backend(\u001b[38;5;28mself\u001b[39m\u001b[38;5;241m.\u001b[39m_backend, n_jobs\u001b[38;5;241m=\u001b[39m\u001b[38;5;28mself\u001b[39m\u001b[38;5;241m.\u001b[39m_n_jobs):\n\u001b[0;32m--> 262\u001b[0m         \u001b[38;5;28;01mreturn\u001b[39;00m [\u001b[43mfunc\u001b[49m\u001b[43m(\u001b[49m\u001b[38;5;241;43m*\u001b[39;49m\u001b[43margs\u001b[49m\u001b[43m,\u001b[49m\u001b[43m \u001b[49m\u001b[38;5;241;43m*\u001b[39;49m\u001b[38;5;241;43m*\u001b[39;49m\u001b[43mkwargs\u001b[49m\u001b[43m)\u001b[49m\n\u001b[1;32m    263\u001b[0m                 \u001b[38;5;28;01mfor\u001b[39;00m func, args, kwargs \u001b[38;5;129;01min\u001b[39;00m \u001b[38;5;28mself\u001b[39m\u001b[38;5;241m.\u001b[39mitems]\n",
      "File \u001b[0;32m~/.pyenv/versions/3.8.12/envs/customerchurn/lib/python3.8/site-packages/sklearn/utils/fixes.py:216\u001b[0m, in \u001b[0;36m_FuncWrapper.__call__\u001b[0;34m(self, *args, **kwargs)\u001b[0m\n\u001b[1;32m    214\u001b[0m \u001b[38;5;28;01mdef\u001b[39;00m \u001b[38;5;21m__call__\u001b[39m(\u001b[38;5;28mself\u001b[39m, \u001b[38;5;241m*\u001b[39margs, \u001b[38;5;241m*\u001b[39m\u001b[38;5;241m*\u001b[39mkwargs):\n\u001b[1;32m    215\u001b[0m     \u001b[38;5;28;01mwith\u001b[39;00m config_context(\u001b[38;5;241m*\u001b[39m\u001b[38;5;241m*\u001b[39m\u001b[38;5;28mself\u001b[39m\u001b[38;5;241m.\u001b[39mconfig):\n\u001b[0;32m--> 216\u001b[0m         \u001b[38;5;28;01mreturn\u001b[39;00m \u001b[38;5;28;43mself\u001b[39;49m\u001b[38;5;241;43m.\u001b[39;49m\u001b[43mfunction\u001b[49m\u001b[43m(\u001b[49m\u001b[38;5;241;43m*\u001b[39;49m\u001b[43margs\u001b[49m\u001b[43m,\u001b[49m\u001b[43m \u001b[49m\u001b[38;5;241;43m*\u001b[39;49m\u001b[38;5;241;43m*\u001b[39;49m\u001b[43mkwargs\u001b[49m\u001b[43m)\u001b[49m\n",
      "File \u001b[0;32m~/.pyenv/versions/3.8.12/envs/customerchurn/lib/python3.8/site-packages/sklearn/decomposition/_lda.py:128\u001b[0m, in \u001b[0;36m_update_doc_distribution\u001b[0;34m(X, exp_topic_word_distr, doc_topic_prior, max_doc_update_iter, mean_change_tol, cal_sstats, random_state)\u001b[0m\n\u001b[1;32m    125\u001b[0m     \u001b[38;5;66;03m# Note: adds doc_topic_prior to doc_topic_d, in-place.\u001b[39;00m\n\u001b[1;32m    126\u001b[0m     _dirichlet_expectation_1d(doc_topic_d, doc_topic_prior, exp_doc_topic_d)\n\u001b[0;32m--> 128\u001b[0m     \u001b[38;5;28;01mif\u001b[39;00m \u001b[43mmean_change\u001b[49m\u001b[43m(\u001b[49m\u001b[43mlast_d\u001b[49m\u001b[43m,\u001b[49m\u001b[43m \u001b[49m\u001b[43mdoc_topic_d\u001b[49m\u001b[43m)\u001b[49m\u001b[43m \u001b[49m\u001b[38;5;241;43m<\u001b[39;49m\u001b[43m \u001b[49m\u001b[43mmean_change_tol\u001b[49m:\n\u001b[1;32m    129\u001b[0m         \u001b[38;5;28;01mbreak\u001b[39;00m\n\u001b[1;32m    130\u001b[0m doc_topic_distr[idx_d, :] \u001b[38;5;241m=\u001b[39m doc_topic_d\n",
      "\u001b[0;31mKeyboardInterrupt\u001b[0m: "
     ]
    }
   ],
   "source": [
    "for n in range(10,100,10):\n",
    "    lda_model = comp_iter(n)\n",
    "    print(f'\\n\\n number of components = {n}')\n",
    "    print_topics(lda_model, vectorizer)\n",
    "    "
   ]
  },
  {
   "cell_type": "markdown",
   "id": "f9ed0500",
   "metadata": {},
   "source": [
    "## Negative Comments - Frequent Words"
   ]
  },
  {
   "cell_type": "code",
   "execution_count": 48,
   "id": "540f5364",
   "metadata": {},
   "outputs": [],
   "source": [
    "neg_review = y == 'Not Recommended'\n",
    "X_neg = X['review_clean'].head(100000).loc[neg_review]"
   ]
  },
  {
   "cell_type": "code",
   "execution_count": 51,
   "id": "bec4e1c5",
   "metadata": {},
   "outputs": [
    {
     "data": {
      "text/html": [
       "<div>\n",
       "<style scoped>\n",
       "    .dataframe tbody tr th:only-of-type {\n",
       "        vertical-align: middle;\n",
       "    }\n",
       "\n",
       "    .dataframe tbody tr th {\n",
       "        vertical-align: top;\n",
       "    }\n",
       "\n",
       "    .dataframe thead th {\n",
       "        text-align: right;\n",
       "    }\n",
       "</style>\n",
       "<table border=\"1\" class=\"dataframe\">\n",
       "  <thead>\n",
       "    <tr style=\"text-align: right;\">\n",
       "      <th></th>\n",
       "      <th>review</th>\n",
       "      <th>review_clean</th>\n",
       "    </tr>\n",
       "  </thead>\n",
       "  <tbody>\n",
       "    <tr>\n",
       "      <th>12</th>\n",
       "      <td>Amount of bugs and glitches from error during ...</td>\n",
       "      <td>amount bug glitch error launching killer consi...</td>\n",
       "    </tr>\n",
       "    <tr>\n",
       "      <th>19</th>\n",
       "      <td>i would not recommend this.. this game used to...</td>\n",
       "      <td>would recommend game used fun fed pandered muc...</td>\n",
       "    </tr>\n",
       "    <tr>\n",
       "      <th>26</th>\n",
       "      <td>I couldn't even start a gamewith My friends. O...</td>\n",
       "      <td>couldnt even start gamewith friend brightside ...</td>\n",
       "    </tr>\n",
       "    <tr>\n",
       "      <th>27</th>\n",
       "      <td>The game is completely unbalanced it doesn't m...</td>\n",
       "      <td>game completely unbalanced doesnt make sense t...</td>\n",
       "    </tr>\n",
       "    <tr>\n",
       "      <th>33</th>\n",
       "      <td>this game is dog s hit</td>\n",
       "      <td>game dog hit</td>\n",
       "    </tr>\n",
       "    <tr>\n",
       "      <th>...</th>\n",
       "      <td>...</td>\n",
       "      <td>...</td>\n",
       "    </tr>\n",
       "    <tr>\n",
       "      <th>293611</th>\n",
       "      <td>For the price its not their yet. Not even clos...</td>\n",
       "      <td>price yet even close organic gameplay check bu...</td>\n",
       "    </tr>\n",
       "    <tr>\n",
       "      <th>293618</th>\n",
       "      <td>I have played this game for a while now on the...</td>\n",
       "      <td>played game toronto developement server feel l...</td>\n",
       "    </tr>\n",
       "    <tr>\n",
       "      <th>293623</th>\n",
       "      <td>Not recommended for now It is a great game gre...</td>\n",
       "      <td>recommended great game great concept great mec...</td>\n",
       "    </tr>\n",
       "    <tr>\n",
       "      <th>293624</th>\n",
       "      <td>Game is crap ever since last update no sense p...</td>\n",
       "      <td>game crap ever since last update sense playing...</td>\n",
       "    </tr>\n",
       "    <tr>\n",
       "      <th>293647</th>\n",
       "      <td>I wasted my money _</td>\n",
       "      <td>wasted money</td>\n",
       "    </tr>\n",
       "  </tbody>\n",
       "</table>\n",
       "<p>100000 rows × 2 columns</p>\n",
       "</div>"
      ],
      "text/plain": [
       "                                                   review  \\\n",
       "12      Amount of bugs and glitches from error during ...   \n",
       "19      i would not recommend this.. this game used to...   \n",
       "26      I couldn't even start a gamewith My friends. O...   \n",
       "27      The game is completely unbalanced it doesn't m...   \n",
       "33                                 this game is dog s hit   \n",
       "...                                                   ...   \n",
       "293611  For the price its not their yet. Not even clos...   \n",
       "293618  I have played this game for a while now on the...   \n",
       "293623  Not recommended for now It is a great game gre...   \n",
       "293624  Game is crap ever since last update no sense p...   \n",
       "293647                                I wasted my money _   \n",
       "\n",
       "                                             review_clean  \n",
       "12      amount bug glitch error launching killer consi...  \n",
       "19      would recommend game used fun fed pandered muc...  \n",
       "26      couldnt even start gamewith friend brightside ...  \n",
       "27      game completely unbalanced doesnt make sense t...  \n",
       "33                                           game dog hit  \n",
       "...                                                   ...  \n",
       "293611  price yet even close organic gameplay check bu...  \n",
       "293618  played game toronto developement server feel l...  \n",
       "293623  recommended great game great concept great mec...  \n",
       "293624  game crap ever since last update sense playing...  \n",
       "293647                                       wasted money  \n",
       "\n",
       "[100000 rows x 2 columns]"
      ]
     },
     "execution_count": 51,
     "metadata": {},
     "output_type": "execute_result"
    }
   ],
   "source": [
    "X[neg_review].head(100000) "
   ]
  },
  {
   "cell_type": "code",
   "execution_count": 52,
   "id": "b4ac4122",
   "metadata": {},
   "outputs": [
    {
     "data": {
      "text/plain": [
       "[('single player', 3023.4995554808047),\n",
       " ('buy game', 2585.813833552124),\n",
       " ('play game', 2558.2219673997784),\n",
       " ('dont buy', 2487.055826529692),\n",
       " ('game ha', 2434.6503539605287),\n",
       " ('early access', 1923.7003358030295),\n",
       " ('game wa', 1855.6589647161238),\n",
       " ('good game', 1758.559457466914),\n",
       " ('received free', 1733.420734743786),\n",
       " ('product received', 1730.9017006170977),\n",
       " ('recommend game', 1637.0969073323483),\n",
       " ('shark card', 1593.285321062681),\n",
       " ('gta online', 1579.4688820800047),\n",
       " ('great game', 1545.4064919296354),\n",
       " ('playing game', 1322.518750540879),\n",
       " ('fun game', 1321.547356696594),\n",
       " ('make game', 1262.6858511475177),\n",
       " ('cant even', 1256.2757554477819),\n",
       " ('bought game', 1247.7797151306963),\n",
       " ('game still', 1231.594708764096),\n",
       " ('game fun', 1218.8078780351802),\n",
       " ('feel like', 1180.1215093715464),\n",
       " ('game ever', 1092.5987271799952),\n",
       " ('waste money', 1067.0590448789544),\n",
       " ('game dont', 1029.3276019564585),\n",
       " ('game play', 1007.2534031434707),\n",
       " ('want play', 991.1968885651208),\n",
       " ('like game', 987.3383215796855),\n",
       " ('region lock', 969.1995160215895),\n",
       " ('cant play', 964.6810032002724),\n",
       " ('modding community', 952.662592867225),\n",
       " ('game like', 948.8708598945077),\n",
       " ('game get', 940.1872963484999),\n",
       " ('battle royale', 931.2022790437361),\n",
       " ('love game', 923.0100600807189),\n",
       " ('get game', 866.8230141091861),\n",
       " ('game good', 853.5875217723204),\n",
       " ('game game', 845.8366128196988),\n",
       " ('fix game', 844.229269533904),\n",
       " ('loading screen', 842.3481488931706),\n",
       " ('got banned', 831.2384452428598),\n",
       " ('every game', 830.5042687974634),\n",
       " ('game would', 830.0618461428817),\n",
       " ('gon na', 827.0532590519871),\n",
       " ('played game', 810.7573123342613),\n",
       " ('dont know', 810.2722756236284),\n",
       " ('dont even', 806.6786708004294),\n",
       " ('get banned', 802.9221695771774),\n",
       " ('dont get', 789.3994051425483),\n",
       " ('anti cheat', 777.8778543612717),\n",
       " ('play friend', 746.5114754715567),\n",
       " ('even though', 713.4677344758952),\n",
       " ('money game', 695.7100020460133),\n",
       " ('would recommend', 692.7622239191055),\n",
       " ('game really', 672.550992802074),\n",
       " ('wa fun', 669.187447594576),\n",
       " ('hour game', 659.0060844293258)]"
      ]
     },
     "execution_count": 52,
     "metadata": {},
     "output_type": "execute_result"
    }
   ],
   "source": [
    "from sklearn.feature_extraction.text import TfidfVectorizer\n",
    "\n",
    "\n",
    "# Tuned TFidfvectorizer\n",
    "vec = TfidfVectorizer(ngram_range = (2,2), min_df=0.01, max_df = 0.05).fit(X[neg_review]['review_clean'].head(100000))\n",
    "\n",
    "vectors = vec.transform(X[neg_review]['review_clean'].head(100000)) # Transform text to vectors\n",
    "\n",
    "sum_tfidf = vectors.sum(axis=0) # Sum of tfidf weighting by word\n",
    "\n",
    "tfidf_list = [(word, sum_tfidf[0, idx]) for word, idx in     vec.vocabulary_.items()]  # Get the word and associated weight\n",
    "\n",
    "sorted_tfidf_list =sorted(tfidf_list, key = lambda x: x[1], reverse=True)  # Sort\n",
    "\n",
    "sorted_tfidf_list"
   ]
  },
  {
   "cell_type": "markdown",
   "id": "3db3e30b",
   "metadata": {},
   "source": [
    "## Positive Comments - Frequent Words"
   ]
  },
  {
   "cell_type": "code",
   "execution_count": 66,
   "id": "d814f7c5",
   "metadata": {},
   "outputs": [],
   "source": [
    "pos_review = y != 'Not Recommended'\n",
    "X_pos = X['review_clean'].head(10000).loc[pos_review]"
   ]
  },
  {
   "cell_type": "code",
   "execution_count": 67,
   "id": "245d9827",
   "metadata": {},
   "outputs": [
    {
     "data": {
      "text/plain": [
       "[('love game', 317.5982752688739),\n",
       " ('dead daylight', 277.0484518744964),\n",
       " ('game play', 271.1226194018729),\n",
       " ('game fun', 262.0695259875463),\n",
       " ('game ha', 259.27097109128385),\n",
       " ('fun play', 239.13387022821348),\n",
       " ('pretty good', 213.76450735078504),\n",
       " ('really fun', 210.55706200870895),\n",
       " ('horror game', 192.75697047665687),\n",
       " ('killer survivor', 185.1788349247908),\n",
       " ('nice game', 181.67308885702403),\n",
       " ('play game', 180.5333393326819),\n",
       " ('game good', 170.76104724673544),\n",
       " ('best game', 160.94175940924347),\n",
       " ('like game', 159.27338701304424),\n",
       " ('game really', 157.58582029601322),\n",
       " ('recommend game', 156.5590512166424),\n",
       " ('survivor killer', 152.84573158877464),\n",
       " ('game great', 148.59348940766054),\n",
       " ('good job', 141.74967002587758),\n",
       " ('lot fun', 130.7073880612113),\n",
       " ('playing game', 125.90712846806916),\n",
       " ('really good', 121.06730248216354),\n",
       " ('fun friend', 119.7694244801003),\n",
       " ('game would', 118.05267427403163),\n",
       " ('play killer', 114.40923878069391),\n",
       " ('game like', 111.82541403034244),\n",
       " ('game get', 104.46656482728834),\n",
       " ('game ever', 104.25561065688538),\n",
       " ('game still', 104.06745722558799),\n",
       " ('job far', 102.07734009504576),\n",
       " ('get game', 100.89809864080013),\n",
       " ('game game', 100.75708470124047),\n",
       " ('would recommend', 100.65916531876381),\n",
       " ('feel like', 99.99072964793092),\n",
       " ('game lot', 98.98614812052426),\n",
       " ('buy game', 95.86792374016966),\n",
       " ('game amazing', 95.71619155200034),\n",
       " ('game wa', 95.60511503594559),\n",
       " ('playing friend', 95.20226373609282),\n",
       " ('much fun', 91.27184650675788),\n",
       " ('awesome game', 90.72132149218152),\n",
       " ('playing killer', 90.55417551053),\n",
       " ('make game', 86.4982233611249),\n",
       " ('game need', 86.19052587833953),\n",
       " ('game one', 83.90564892879901),\n",
       " ('game love', 82.49788874715354),\n",
       " ('game much', 82.10076147692871),\n",
       " ('friday th', 81.21170064158166),\n",
       " ('amazing game', 80.91458165267618),\n",
       " ('play survivor', 80.47181815388525),\n",
       " ('highly recommend', 79.0107907906132),\n",
       " ('friend play', 78.8102887212174),\n",
       " ('hide seek', 78.40174379920394),\n",
       " ('enjoy game', 77.31386401009058),\n",
       " ('game friend', 77.27978648329866),\n",
       " ('game make', 76.41048475668318),\n",
       " ('game ive', 76.24276448952916),\n",
       " ('one best', 74.41238566104936),\n",
       " ('game pretty', 73.55563094092683),\n",
       " ('survive friend', 73.4028627966662),\n",
       " ('dont know', 70.49245426306462),\n",
       " ('want play', 70.18919340187298),\n",
       " ('game dont', 69.67231748411301),\n",
       " ('played game', 69.26329288982006),\n",
       " ('find game', 68.75907032841971),\n",
       " ('game killer', 67.70294983149074),\n",
       " ('gon na', 64.17117668781405),\n",
       " ('game worth', 64.07240078373825),\n",
       " ('new killer', 64.05366933821202),\n",
       " ('hour game', 63.80186232561196),\n",
       " ('still fun', 62.786976825860954),\n",
       " ('long time', 62.39951047598063),\n",
       " ('ever played', 62.31998932389927),\n",
       " ('playing survivor', 60.92093731235858),\n",
       " ('even though', 60.314788928590026),\n",
       " ('ive played', 58.90037845430157),\n",
       " ('game even', 57.48619759248704),\n",
       " ('fun playing', 53.455537495975655)]"
      ]
     },
     "execution_count": 67,
     "metadata": {},
     "output_type": "execute_result"
    }
   ],
   "source": [
    "from sklearn.feature_extraction.text import TfidfVectorizer\n",
    "\n",
    "\n",
    "# Tuned TFidfvectorizer\n",
    "vec = TfidfVectorizer(ngram_range = (2,2), min_df=0.01, max_df = 0.05).fit(X[pos_review]['review_clean'].head(10000))\n",
    "\n",
    "vectors = vec.transform(X[pos_review]['review_clean'].head(10000)) # Transform text to vectors\n",
    "\n",
    "sum_tfidf = vectors.sum(axis=0) # Sum of tfidf weighting by word\n",
    "\n",
    "tfidf_list = [(word, sum_tfidf[0, idx]) for word, idx in     vec.vocabulary_.items()]  # Get the word and associated weight\n",
    "\n",
    "sorted_tfidf_list =sorted(tfidf_list, key = lambda x: x[1], reverse=True)  # Sort\n",
    "\n",
    "sorted_tfidf_list"
   ]
  }
 ],
 "metadata": {
  "kernelspec": {
   "display_name": "Python 3 (ipykernel)",
   "language": "python",
   "name": "python3"
  },
  "language_info": {
   "codemirror_mode": {
    "name": "ipython",
    "version": 3
   },
   "file_extension": ".py",
   "mimetype": "text/x-python",
   "name": "python",
   "nbconvert_exporter": "python",
   "pygments_lexer": "ipython3",
   "version": "3.8.12"
  },
  "toc": {
   "base_numbering": 1,
   "nav_menu": {},
   "number_sections": true,
   "sideBar": true,
   "skip_h1_title": false,
   "title_cell": "Table of Contents",
   "title_sidebar": "Contents",
   "toc_cell": false,
   "toc_position": {},
   "toc_section_display": true,
   "toc_window_display": false
  }
 },
 "nbformat": 4,
 "nbformat_minor": 5
}
